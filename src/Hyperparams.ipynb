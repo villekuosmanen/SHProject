{
 "cells": [
  {
   "cell_type": "code",
   "execution_count": 1,
   "metadata": {},
   "outputs": [],
   "source": [
    "import pandas as pd\n",
    "import numpy as np\n",
    "import datetime\n",
    "from surprise import SVD\n",
    "from surprise import Dataset\n",
    "from surprise import Reader\n",
    "from surprise import accuracy\n",
    "from sklearn.model_selection import train_test_split\n",
    "from surprise.model_selection import cross_validate"
   ]
  },
  {
   "cell_type": "code",
   "execution_count": 2,
   "metadata": {},
   "outputs": [],
   "source": [
    "development_set = False"
   ]
  },
  {
   "cell_type": "code",
   "execution_count": 3,
   "metadata": {},
   "outputs": [],
   "source": [
    "if development_set:\n",
    "        filename = \"../data/ml_100k/ratings.csv\"\n",
    "else:\n",
    "    filename = \"../data/ml-20m/ratings.csv\"\n",
    "ratings_df = pd.read_csv(filename, dtype={\n",
    "    'userId': np.int32,\n",
    "    'movieId': np.int32,\n",
    "    'rating': np.float32,\n",
    "    'timestamp': np.int32,\n",
    "})\n",
    "\n",
    "trainset, testset = train_test_split(ratings_df, test_size=.25, random_state=42)"
   ]
  },
  {
   "cell_type": "code",
   "execution_count": 4,
   "metadata": {},
   "outputs": [
    {
     "name": "stdout",
     "output_type": "stream",
     "text": [
      "Starting cross-validation\n",
      "Evaluating RMSE, MAE of algorithm SVD on 4 split(s).\n",
      "\n",
      "                  Fold 1  Fold 2  Fold 3  Fold 4  Mean    Std     \n",
      "RMSE (testset)    0.8923  0.8926  0.8920  0.8926  0.8924  0.0003  \n",
      "MAE (testset)     0.6885  0.6888  0.6880  0.6887  0.6885  0.0003  \n",
      "Fit time          52.02   65.98   65.35   65.52   62.22   5.89    \n",
      "Test time         116.75  109.96  98.54   92.17   104.36  9.58    \n",
      "Evaluating RMSE, MAE of algorithm SVD on 4 split(s).\n",
      "\n",
      "                  Fold 1  Fold 2  Fold 3  Fold 4  Mean    Std     \n",
      "RMSE (testset)    0.8789  0.8789  0.8793  0.8792  0.8791  0.0002  \n",
      "MAE (testset)     0.6778  0.6775  0.6781  0.6776  0.6778  0.0002  \n",
      "Fit time          89.82   102.33  100.75  101.23  98.53   5.06    \n",
      "Test time         70.90   99.30   85.76   94.28   87.56   10.77   \n",
      "Evaluating RMSE, MAE of algorithm SVD on 4 split(s).\n",
      "\n",
      "                  Fold 1  Fold 2  Fold 3  Fold 4  Mean    Std     \n",
      "RMSE (testset)    0.8593  0.8574  0.8579  0.8587  0.8583  0.0007  \n",
      "MAE (testset)     0.6609  0.6594  0.6601  0.6604  0.6602  0.0006  \n",
      "Fit time          202.67  217.77  2285.53 217.35  730.83  897.63  \n",
      "Test time         440.28  4167.90 93.72   87.80   1197.43 1720.93 \n",
      "Evaluating RMSE, MAE of algorithm SVD on 4 split(s).\n",
      "\n",
      "                  Fold 1  Fold 2  Fold 3  Fold 4  Mean    Std     \n",
      "RMSE (testset)    0.8283  0.8292  0.8287  0.8290  0.8288  0.0003  \n",
      "MAE (testset)     0.6343  0.6350  0.6346  0.6348  0.6347  0.0003  \n",
      "Fit time          394.65  1210.46 411.55  407.28  605.98  349.05  \n",
      "Test time         75.94   84.61   92.64   87.04   85.06   6.01    \n",
      "Evaluating RMSE, MAE of algorithm SVD on 4 split(s).\n",
      "\n",
      "                  Fold 1  Fold 2  Fold 3  Fold 4  Mean    Std     \n",
      "RMSE (testset)    0.8060  0.8053  0.8049  0.8060  0.8056  0.0004  \n",
      "MAE (testset)     0.6143  0.6140  0.6137  0.6145  0.6141  0.0003  \n",
      "Fit time          2286.88 1460.82 2242.42 805.20  1698.83 611.66  \n",
      "Test time         76.14   86.83   94.41   86.37   85.94   6.49    \n",
      "Evaluating RMSE, MAE of algorithm SVD on 4 split(s).\n",
      "\n",
      "                  Fold 1  Fold 2  Fold 3  Fold 4  Mean    Std     \n",
      "RMSE (testset)    0.8084  0.8089  0.8087  0.8089  0.8087  0.0002  \n",
      "MAE (testset)     0.6148  0.6151  0.6150  0.6151  0.6150  0.0001  \n",
      "Fit time          1367.37 1377.26 1378.23 1387.43 1377.57 7.10    \n",
      "Test time         76.43   85.96   91.55   86.83   85.19   5.49    \n",
      "Evaluating RMSE, MAE of algorithm SVD on 4 split(s).\n",
      "\n",
      "                  Fold 1  Fold 2  Fold 3  Fold 4  Mean    Std     \n",
      "RMSE (testset)    0.8158  0.8154  0.8161  0.8159  0.8158  0.0003  \n",
      "MAE (testset)     0.6200  0.6197  0.6203  0.6199  0.6200  0.0002  \n",
      "Fit time          1939.16 1963.28 1969.35 2006.15 1969.48 23.99   \n",
      "Test time         76.62   86.25   94.40   86.44   85.93   6.30    \n"
     ]
    }
   ],
   "source": [
    "reader = Reader(rating_scale=(1, 5))\n",
    "data = Dataset.load_from_df(trainset[['userId', 'movieId', 'rating']], reader)\n",
    "\n",
    "epochs = [1, 2, 5, 10, 20, 35, 50]\n",
    "print(\"Starting cross-validation\")\n",
    "for n_epochs in epochs:\n",
    "    algo = SVD(n_epochs=n_epochs)\n",
    "    cross_validate(algo, data, measures=['RMSE', 'MAE'], cv=4, n_jobs=1, verbose=True)"
   ]
  },
  {
   "cell_type": "code",
   "execution_count": 5,
   "metadata": {},
   "outputs": [
    {
     "ename": "KeyboardInterrupt",
     "evalue": "",
     "output_type": "error",
     "traceback": [
      "\u001b[0;31m---------------------------------------------------------------------------\u001b[0m",
      "\u001b[0;31mKeyboardInterrupt\u001b[0m                         Traceback (most recent call last)",
      "\u001b[0;32m<ipython-input-5-e56e208a1c75>\u001b[0m in \u001b[0;36m<module>\u001b[0;34m\u001b[0m\n\u001b[1;32m      4\u001b[0m \u001b[0malgo\u001b[0m \u001b[0;34m=\u001b[0m \u001b[0mSVD\u001b[0m\u001b[0;34m(\u001b[0m\u001b[0mn_epochs\u001b[0m\u001b[0;34m=\u001b[0m\u001b[0;36m20\u001b[0m\u001b[0;34m)\u001b[0m\u001b[0;34m\u001b[0m\u001b[0;34m\u001b[0m\u001b[0m\n\u001b[1;32m      5\u001b[0m \u001b[0mfull_trainset\u001b[0m \u001b[0;34m=\u001b[0m \u001b[0mDataset\u001b[0m\u001b[0;34m.\u001b[0m\u001b[0mload_from_df\u001b[0m\u001b[0;34m(\u001b[0m\u001b[0mtrainset\u001b[0m\u001b[0;34m[\u001b[0m\u001b[0;34m[\u001b[0m\u001b[0;34m'userId'\u001b[0m\u001b[0;34m,\u001b[0m \u001b[0;34m'movieId'\u001b[0m\u001b[0;34m,\u001b[0m \u001b[0;34m'rating'\u001b[0m\u001b[0;34m]\u001b[0m\u001b[0;34m]\u001b[0m\u001b[0;34m,\u001b[0m \u001b[0mreader\u001b[0m\u001b[0;34m)\u001b[0m\u001b[0;34m.\u001b[0m\u001b[0mbuild_full_trainset\u001b[0m\u001b[0;34m(\u001b[0m\u001b[0;34m)\u001b[0m\u001b[0;34m\u001b[0m\u001b[0;34m\u001b[0m\u001b[0m\n\u001b[0;32m----> 6\u001b[0;31m \u001b[0malgo\u001b[0m\u001b[0;34m.\u001b[0m\u001b[0mfit\u001b[0m\u001b[0;34m(\u001b[0m\u001b[0mfull_trainset\u001b[0m\u001b[0;34m)\u001b[0m\u001b[0;34m\u001b[0m\u001b[0;34m\u001b[0m\u001b[0m\n\u001b[0m\u001b[1;32m      7\u001b[0m \u001b[0;34m\u001b[0m\u001b[0m\n\u001b[1;32m      8\u001b[0m \u001b[0mreader\u001b[0m \u001b[0;34m=\u001b[0m \u001b[0mReader\u001b[0m\u001b[0;34m(\u001b[0m\u001b[0mrating_scale\u001b[0m\u001b[0;34m=\u001b[0m\u001b[0;34m(\u001b[0m\u001b[0;36m1\u001b[0m\u001b[0;34m,\u001b[0m \u001b[0;36m5\u001b[0m\u001b[0;34m)\u001b[0m\u001b[0;34m)\u001b[0m\u001b[0;34m\u001b[0m\u001b[0;34m\u001b[0m\u001b[0m\n",
      "\u001b[0;32m~/uni/SHProject/venv/lib64/python3.7/site-packages/surprise/prediction_algorithms/matrix_factorization.pyx\u001b[0m in \u001b[0;36msurprise.prediction_algorithms.matrix_factorization.SVD.fit\u001b[0;34m()\u001b[0m\n",
      "\u001b[0;32m~/uni/SHProject/venv/lib64/python3.7/site-packages/surprise/prediction_algorithms/matrix_factorization.pyx\u001b[0m in \u001b[0;36msurprise.prediction_algorithms.matrix_factorization.SVD.sgd\u001b[0;34m()\u001b[0m\n",
      "\u001b[0;32m~/uni/SHProject/venv/lib64/python3.7/site-packages/surprise/trainset.py\u001b[0m in \u001b[0;36mall_ratings\u001b[0;34m(self)\u001b[0m\n\u001b[1;32m    187\u001b[0m         \u001b[0;32mfor\u001b[0m \u001b[0mu\u001b[0m\u001b[0;34m,\u001b[0m \u001b[0mu_ratings\u001b[0m \u001b[0;32min\u001b[0m \u001b[0miteritems\u001b[0m\u001b[0;34m(\u001b[0m\u001b[0mself\u001b[0m\u001b[0;34m.\u001b[0m\u001b[0mur\u001b[0m\u001b[0;34m)\u001b[0m\u001b[0;34m:\u001b[0m\u001b[0;34m\u001b[0m\u001b[0;34m\u001b[0m\u001b[0m\n\u001b[1;32m    188\u001b[0m             \u001b[0;32mfor\u001b[0m \u001b[0mi\u001b[0m\u001b[0;34m,\u001b[0m \u001b[0mr\u001b[0m \u001b[0;32min\u001b[0m \u001b[0mu_ratings\u001b[0m\u001b[0;34m:\u001b[0m\u001b[0;34m\u001b[0m\u001b[0;34m\u001b[0m\u001b[0m\n\u001b[0;32m--> 189\u001b[0;31m                 \u001b[0;32myield\u001b[0m \u001b[0mu\u001b[0m\u001b[0;34m,\u001b[0m \u001b[0mi\u001b[0m\u001b[0;34m,\u001b[0m \u001b[0mr\u001b[0m\u001b[0;34m\u001b[0m\u001b[0;34m\u001b[0m\u001b[0m\n\u001b[0m\u001b[1;32m    190\u001b[0m \u001b[0;34m\u001b[0m\u001b[0m\n\u001b[1;32m    191\u001b[0m     \u001b[0;32mdef\u001b[0m \u001b[0mbuild_testset\u001b[0m\u001b[0;34m(\u001b[0m\u001b[0mself\u001b[0m\u001b[0;34m)\u001b[0m\u001b[0;34m:\u001b[0m\u001b[0;34m\u001b[0m\u001b[0;34m\u001b[0m\u001b[0m\n",
      "\u001b[0;31mKeyboardInterrupt\u001b[0m: "
     ]
    }
   ],
   "source": [
    "# Test with testset: only do at the end!\n",
    "\n",
    "# New algo with previous hyperparams\n",
    "algo = SVD(n_epochs=20)\n",
    "full_trainset = Dataset.load_from_df(trainset[['userId', 'movieId', 'rating']], reader).build_full_trainset()\n",
    "algo.fit(full_trainset)\n",
    "\n",
    "reader = Reader(rating_scale=(1, 5))\n",
    "full_testset = Dataset.load_from_df(testset[['userId', 'movieId', 'rating']], reader).build_full_trainset().build_testset()\n",
    "\n",
    "predictions = algo.test(full_testset)\n",
    "print(accuracy.mae(predictions))"
   ]
  },
  {
   "cell_type": "markdown",
   "metadata": {},
   "source": [
    "# Test for factors"
   ]
  },
  {
   "cell_type": "code",
   "execution_count": 4,
   "metadata": {},
   "outputs": [
    {
     "name": "stdout",
     "output_type": "stream",
     "text": [
      "Starting cross-validation\n",
      "Evaluating RMSE, MAE of algorithm SVD on 4 split(s).\n",
      "\n",
      "                  Fold 1  Fold 2  Fold 3  Fold 4  Mean    Std     \n",
      "RMSE (testset)    0.8082  0.8104  0.8102  0.8107  0.8099  0.0010  \n",
      "MAE (testset)     0.6169  0.6185  0.6185  0.6187  0.6182  0.0007  \n",
      "Fit time          308.07  321.35  319.74  320.00  317.29  5.36    \n",
      "Test time         102.21  100.68  68.60   99.52   92.75   13.98   \n",
      "Evaluating RMSE, MAE of algorithm SVD on 4 split(s).\n",
      "\n",
      "                  Fold 1  Fold 2  Fold 3  Fold 4  Mean    Std     \n",
      "RMSE (testset)    0.8064  0.8067  0.8054  0.8063  0.8062  0.0005  \n",
      "MAE (testset)     0.6150  0.6153  0.6142  0.6150  0.6149  0.0004  \n",
      "Fit time          362.57  375.72  373.51  374.63  371.61  5.28    \n",
      "Test time         96.93   96.24   85.29   74.99   88.36   9.00    \n",
      "Evaluating RMSE, MAE of algorithm SVD on 4 split(s).\n",
      "\n",
      "                  Fold 1  Fold 2  Fold 3  Fold 4  Mean    Std     \n",
      "RMSE (testset)    0.8045  0.8047  0.8044  0.8032  0.8042  0.0006  \n",
      "MAE (testset)     0.6135  0.6134  0.6132  0.6121  0.6130  0.0005  \n",
      "Fit time          510.59  525.69  527.93  2554.89 1029.77 880.55  \n",
      "Test time         91.45   89.81   76.04   94.27   87.90   7.03    \n",
      "Evaluating RMSE, MAE of algorithm SVD on 4 split(s).\n",
      "\n",
      "                  Fold 1  Fold 2  Fold 3  Fold 4  Mean    Std     \n",
      "RMSE (testset)    0.8054  0.8054  0.8057  0.8050  0.8054  0.0002  \n",
      "MAE (testset)     0.6141  0.6140  0.6141  0.6136  0.6140  0.0002  \n",
      "Fit time          770.65  787.54  1254.15 827.81  910.04  199.75  \n",
      "Test time         81.37   97.17   93.37   104.95  94.21   8.51    \n"
     ]
    }
   ],
   "source": [
    "reader = Reader(rating_scale=(1, 5))\n",
    "data = Dataset.load_from_df(trainset[['userId', 'movieId', 'rating']], reader)\n",
    "\n",
    "factors = [10, 20, 50, 100]\n",
    "print(\"Starting cross-validation\")\n",
    "for n_factors in factors:\n",
    "    algo = SVD(n_epochs=20, n_factors=n_factors)\n",
    "    cross_validate(algo, data, measures=['RMSE', 'MAE'], cv=4, n_jobs=1, verbose=True)"
   ]
  },
  {
   "cell_type": "code",
   "execution_count": null,
   "metadata": {},
   "outputs": [],
   "source": []
  }
 ],
 "metadata": {
  "kernelspec": {
   "display_name": "Python 3",
   "language": "python",
   "name": "python3"
  },
  "language_info": {
   "codemirror_mode": {
    "name": "ipython",
    "version": 3
   },
   "file_extension": ".py",
   "mimetype": "text/x-python",
   "name": "python",
   "nbconvert_exporter": "python",
   "pygments_lexer": "ipython3",
   "version": "3.7.5"
  }
 },
 "nbformat": 4,
 "nbformat_minor": 4
}
