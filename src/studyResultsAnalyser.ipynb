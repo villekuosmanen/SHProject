{
 "cells": [
  {
   "cell_type": "code",
   "execution_count": 1,
   "metadata": {},
   "outputs": [],
   "source": [
    "import numpy as np\n",
    "import pandas as pd\n",
    "import os\n",
    "import json"
   ]
  },
  {
   "cell_type": "code",
   "execution_count": 5,
   "metadata": {},
   "outputs": [
    {
     "name": "stdout",
     "output_type": "stream",
     "text": [
      "   type interest trust hasDetails\n",
      "0     A        2     1       True\n",
      "1     A        2     1      False\n",
      "2     C        3     3      False\n",
      "3     C        2     3      False\n",
      "4     A        5     5       True\n",
      "5     C        4     3       True\n",
      "6     B        4     4      False\n",
      "7     B        2     2       True\n",
      "8     C        4     2       True\n",
      "9     B        1     1      False\n",
      "10    B        4     3      False\n",
      "11    A        3     2       True\n",
      "12    B        4     4       True\n",
      "13    C        5     3       True\n",
      "14    A        4     2       True\n",
      "15    A        4     4       True\n",
      "16    C        2     4       True\n",
      "17    B        3     2       True\n",
      "18    A        1     1       True\n",
      "19    B        1     1       True\n",
      "20    C        3     2      False\n",
      "21    B        2     2       True\n",
      "22    C        4     3       True\n",
      "23    C        3     3       True\n",
      "24    A        5     4       True\n",
      "25    A        1     1      False\n",
      "26    C        3     3      False\n",
      "27    A        3     2       True\n",
      "28    A        5     4       True\n",
      "29    A        1     1       True\n",
      "30    C        3     2      False\n",
      "31    B        4     4       True\n",
      "32    A        3     2       True\n",
      "33    C        5     4       True\n",
      "34    B        5     4       True\n",
      "35    C        4     4       True\n",
      "36    A        2     1       True\n",
      "37    C        4     3       True\n",
      "38    A        5     5       True\n",
      "39    C        2     1       True\n",
      "40    A        3     1      False\n",
      "41    A        1     1       True\n",
      "42    B        4     4       True\n",
      "43    C        4     2       True\n",
      "44    C        1     1       True\n",
      "45    A        3     2       True\n",
      "46    C        1     1      False\n",
      "47    C        2     1       True\n",
      "48    A        5     4       True\n",
      "Interest mean(A): 3.0526315789473686\n",
      "Interest mean(B): 3.090909090909091\n",
      "Interest mean(C): 3.1052631578947367\n",
      "Trust mean(A): 2.3157894736842106\n",
      "Trust mean(B): 2.8181818181818183\n",
      "Trust mean(C): 2.526315789473684\n"
     ]
    }
   ],
   "source": [
    "path_to_json = '../responses/'\n",
    "json_files = [pos_json for pos_json in os.listdir(path_to_json) if pos_json.endswith('.json')]\n",
    "\n",
    "# here I define my pandas Dataframe with the columns I want to get from the json\n",
    "jsons_data = pd.DataFrame(columns=['type', 'interest', 'trust', 'hasDetails'])\n",
    "\n",
    "# we need both the json and an index number so use enumerate()\n",
    "index = 0\n",
    "for js in json_files:\n",
    "    with open(os.path.join(path_to_json, js)) as json_file:\n",
    "        json_text = json.load(json_file)\n",
    "\n",
    "        # here you need to know the layout of your json and each json has to have\n",
    "        # the same structure (obviously not the structure I have here)\n",
    "        response = json_text['response']\n",
    "        for review in response:\n",
    "            type_var = review['type']\n",
    "            interest = review['interest']\n",
    "            trust = review['trust']\n",
    "            hasDetails = review['hasDetails']\n",
    "            \n",
    "            # here I push a list of data into a pandas DataFrame at row given by 'index'\n",
    "            jsons_data.loc[index] = [type_var, interest, trust, hasDetails]\n",
    "            index += 1\n",
    "\n",
    "# now that we have the pertinent json data in our DataFrame let's look at it\n",
    "print(jsons_data)\n",
    "print(\"Interest mean(A): \" + str(jsons_data.loc[jsons_data['type'] == \"A\"]['interest'].mean()))\n",
    "print(\"Interest mean(B): \" + str(jsons_data.loc[jsons_data['type'] == \"B\"]['interest'].mean()))\n",
    "print(\"Interest mean(C): \" + str(jsons_data.loc[jsons_data['type'] == \"C\"]['interest'].mean()))\n",
    "print(\"Trust mean(A): \" + str(jsons_data.loc[jsons_data['type'] == \"A\"]['trust'].mean()))\n",
    "print(\"Trust mean(B): \" + str(jsons_data.loc[jsons_data['type'] == \"B\"]['trust'].mean()))\n",
    "print(\"Trust mean(C): \" + str(jsons_data.loc[jsons_data['type'] == \"C\"]['trust'].mean()))"
   ]
  },
  {
   "cell_type": "code",
   "execution_count": null,
   "metadata": {},
   "outputs": [],
   "source": []
  }
 ],
 "metadata": {
  "kernelspec": {
   "display_name": "Python 3",
   "language": "python",
   "name": "python3"
  },
  "language_info": {
   "codemirror_mode": {
    "name": "ipython",
    "version": 3
   },
   "file_extension": ".py",
   "mimetype": "text/x-python",
   "name": "python",
   "nbconvert_exporter": "python",
   "pygments_lexer": "ipython3",
   "version": "3.7.6"
  }
 },
 "nbformat": 4,
 "nbformat_minor": 4
}
