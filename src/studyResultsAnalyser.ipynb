{
 "cells": [
  {
   "cell_type": "code",
   "execution_count": 7,
   "metadata": {},
   "outputs": [],
   "source": [
    "import numpy as np\n",
    "import pandas as pd\n",
    "import os\n",
    "import json\n",
    "import statistics"
   ]
  },
  {
   "cell_type": "code",
   "execution_count": 3,
   "metadata": {},
   "outputs": [
    {
     "name": "stdout",
     "output_type": "stream",
     "text": [
      "    type interest trust hasDetails\n",
      "0      A        5     4       True\n",
      "1      C        5     4       True\n",
      "2      A        5     5       True\n",
      "3      C        5     3       True\n",
      "4      C        5     5       True\n",
      "..   ...      ...   ...        ...\n",
      "511    A        5     5       True\n",
      "512    C        5     5       True\n",
      "513    A        5     5      False\n",
      "514    C        5     5      False\n",
      "515    C        3     5       True\n",
      "\n",
      "[516 rows x 4 columns]\n",
      "Interest mean(A): 3.4097560975609755\n",
      "Interest mean(B): 4.08411214953271\n",
      "Interest mean(C): 3.4019607843137254\n",
      "Trust mean(A): 3.4292682926829268\n",
      "Trust mean(B): 4.093457943925234\n",
      "Trust mean(C): 3.3480392156862746\n"
     ]
    }
   ],
   "source": [
    "path_to_json = '../responses/'\n",
    "json_files = [pos_json for pos_json in os.listdir(path_to_json) if pos_json.endswith('.json')]\n",
    "\n",
    "# here I define my pandas Dataframe with the columns I want to get from the json\n",
    "jsons_data = pd.DataFrame(columns=['type', 'interest', 'trust', 'hasDetails'])\n",
    "\n",
    "# we need both the json and an index number so use enumerate()\n",
    "index = 0\n",
    "for js in json_files:\n",
    "    with open(os.path.join(path_to_json, js), \"r\") as json_file:\n",
    "        json_text = json.load(json_file)\n",
    "        \n",
    "\n",
    "        response = json_text['response']\n",
    "        for review in response:\n",
    "            type_var = review['type']\n",
    "            interest = review['interest']\n",
    "            trust = review['trust']\n",
    "            hasDetails = review['hasDetails']\n",
    "            \n",
    "            # here I push a list of data into a pandas DataFrame at row given by 'index'\n",
    "            jsons_data.loc[index] = [type_var, interest, trust, hasDetails]\n",
    "            index += 1\n",
    "\n",
    "# now that we have the pertinent json data in our DataFrame let's look at it\n",
    "print(jsons_data)\n",
    "print(\"Interest mean(A): \" + str(jsons_data.loc[jsons_data['type'] == \"A\"]['interest'].mean()))\n",
    "print(\"Interest mean(B): \" + str(jsons_data.loc[jsons_data['type'] == \"B\"]['interest'].mean()))\n",
    "print(\"Interest mean(C): \" + str(jsons_data.loc[jsons_data['type'] == \"C\"]['interest'].mean()))\n",
    "print(\"Trust mean(A): \" + str(jsons_data.loc[jsons_data['type'] == \"A\"]['trust'].mean()))\n",
    "print(\"Trust mean(B): \" + str(jsons_data.loc[jsons_data['type'] == \"B\"]['trust'].mean()))\n",
    "print(\"Trust mean(C): \" + str(jsons_data.loc[jsons_data['type'] == \"C\"]['trust'].mean()))"
   ]
  },
  {
   "cell_type": "code",
   "execution_count": 20,
   "metadata": {},
   "outputs": [
    {
     "name": "stdout",
     "output_type": "stream",
     "text": [
      "number(A): 205\n",
      "[5, 5, 5, 5, 2, 4, 5, 4, 4, 4, 5, 3, 4, 2, 3, 2, 3, 2, 4, 2, 2, 4, 2, 5, 2, 3, 1, 1, 1, 1, 4, 5, 1, 5, 3, 2, 1, 1, 4, 1, 5, 4, 4, 3, 2, 5, 4, 3, 3, 4, 4, 4, 4, 5, 4, 3, 4, 5, 4, 5, 3, 3, 5, 4, 4, 4, 3, 3, 5, 5, 5, 1, 5, 2, 5, 2, 2, 4, 2, 4, 1, 4, 4, 4, 5, 3, 4, 2, 2, 3, 4, 5, 4, 4, 5, 2, 4, 1, 2, 3, 5, 4, 4, 4, 1, 4, 2, 5, 2, 3, 5, 5, 3, 5, 5, 1, 5, 1, 3, 4, 5, 3, 5, 5, 4, 3, 1, 2, 3, 2, 2, 3, 1, 3, 1, 2, 3, 2, 3, 4, 2, 4, 5, 2, 3, 3, 5, 4, 4, 5, 5, 1, 5, 2, 5, 5, 5, 5, 2, 2, 5, 5, 3, 4, 2, 4, 4, 3, 3, 3, 2, 5, 3, 5, 3, 3, 4, 5, 5, 3, 3, 3, 5, 3, 3, 2, 5, 5, 5, 5, 3, 1, 2, 1, 1, 3, 5, 4, 2, 5, 3, 1, 5, 5, 5]\n",
      "number(B): 107\n",
      "[4, 5, 5, 5, 4, 5, 5, 5, 5, 4, 4, 5, 5, 5, 5, 5, 5, 5, 5, 5, 4, 3, 3, 5, 3, 5, 5, 5, 4, 5, 5, 4, 4, 5, 5, 4, 3, 1, 3, 4, 3, 4, 5, 4, 5, 2, 4, 3, 5, 4, 5, 5, 4, 5, 4, 4, 5, 4, 4, 4, 3, 5, 3, 3, 1, 3, 5, 3, 3, 4, 1, 1, 5, 3, 5, 3, 5, 5, 3, 5, 5, 5, 5, 5, 4, 2, 3, 4, 5, 4, 5, 5, 5, 5, 4, 5, 3, 3, 3, 5, 3, 5, 1, 1, 5, 5, 4]\n",
      "number(C): 204\n",
      "[5, 5, 5, 5, 5, 3, 4, 5, 5, 3, 3, 3, 2, 5, 2, 4, 3, 2, 1, 4, 5, 5, 4, 4, 3, 2, 4, 1, 4, 5, 5, 3, 4, 4, 4, 1, 2, 1, 2, 3, 4, 4, 4, 3, 3, 3, 4, 4, 3, 4, 4, 5, 3, 4, 4, 5, 5, 4, 1, 5, 3, 4, 5, 4, 5, 5, 5, 4, 5, 2, 5, 2, 3, 5, 3, 4, 4, 3, 1, 4, 3, 4, 5, 2, 2, 1, 2, 4, 4, 3, 5, 5, 5, 5, 2, 2, 2, 2, 1, 5, 3, 1, 5, 3, 3, 4, 3, 2, 4, 5, 4, 5, 5, 5, 5, 3, 5, 5, 5, 3, 5, 1, 5, 1, 1, 1, 4, 2, 4, 2, 1, 5, 1, 5, 1, 2, 1, 1, 4, 4, 2, 4, 2, 3, 4, 1, 4, 4, 3, 3, 5, 2, 3, 3, 5, 5, 2, 2, 5, 5, 4, 2, 4, 5, 3, 1, 1, 1, 4, 4, 3, 1, 3, 5, 3, 5, 3, 4, 2, 3, 3, 4, 5, 5, 4, 5, 4, 2, 4, 2, 3, 3, 3, 1, 3, 3, 2, 3, 1, 5, 3, 5, 5, 3]\n"
     ]
    }
   ],
   "source": [
    "# Interest, all samples\n",
    "print(\"number(A): \" + str(len(jsons_data.loc[jsons_data['type'] == \"A\"]['interest'])))\n",
    "print(str(jsons_data.loc[jsons_data['type'] == \"A\"]['interest'].values.tolist()))\n",
    "\n",
    "print(\"number(B): \" + str(len(jsons_data.loc[jsons_data['type'] == \"B\"]['interest'])))\n",
    "print(str(jsons_data.loc[jsons_data['type'] == \"B\"]['interest'].values.tolist()))\n",
    "\n",
    "print(\"number(C): \" + str(len(jsons_data.loc[jsons_data['type'] == \"C\"]['interest'])))\n",
    "print(str(jsons_data.loc[jsons_data['type'] == \"C\"]['interest'].values.tolist()))"
   ]
  },
  {
   "cell_type": "code",
   "execution_count": 21,
   "metadata": {},
   "outputs": [
    {
     "name": "stdout",
     "output_type": "stream",
     "text": [
      "number(A): 205\n",
      "[4, 5, 5, 5, 3, 4, 5, 4, 4, 4, 4, 3, 4, 3, 2, 3, 3, 3, 5, 3, 3, 3, 2, 4, 2, 3, 1, 1, 1, 1, 2, 4, 1, 5, 3, 1, 1, 1, 2, 1, 5, 4, 4, 3, 2, 4, 5, 4, 3, 3, 5, 4, 5, 4, 4, 3, 4, 4, 4, 4, 4, 4, 5, 4, 4, 5, 5, 5, 5, 5, 5, 1, 5, 2, 5, 3, 1, 4, 2, 4, 2, 2, 3, 3, 3, 3, 4, 2, 1, 3, 4, 5, 5, 5, 5, 2, 3, 3, 3, 3, 4, 3, 3, 4, 4, 4, 3, 5, 2, 3, 4, 4, 3, 4, 4, 1, 2, 1, 3, 2, 5, 3, 5, 5, 3, 4, 2, 2, 3, 2, 2, 3, 2, 2, 2, 1, 4, 3, 4, 4, 3, 3, 4, 3, 3, 3, 5, 4, 4, 4, 4, 1, 3, 2, 4, 5, 5, 5, 2, 2, 5, 5, 3, 4, 2, 4, 4, 3, 3, 3, 3, 5, 5, 5, 4, 4, 4, 5, 5, 5, 3, 3, 5, 3, 3, 2, 5, 5, 5, 5, 4, 2, 3, 3, 2, 3, 5, 4, 2, 5, 3, 1, 5, 5, 5]\n",
      "number(B): 107\n",
      "[4, 5, 5, 5, 4, 5, 5, 4, 4, 4, 4, 5, 4, 5, 5, 5, 5, 4, 5, 5, 4, 3, 3, 4, 3, 5, 5, 5, 4, 4, 4, 4, 4, 5, 5, 5, 4, 3, 1, 2, 4, 5, 5, 5, 5, 3, 3, 3, 4, 4, 4, 5, 4, 5, 4, 4, 4, 4, 4, 3, 5, 5, 3, 4, 1, 3, 5, 4, 3, 1, 1, 3, 5, 4, 3, 3, 4, 5, 4, 5, 5, 5, 5, 5, 5, 4, 5, 5, 5, 3, 5, 5, 5, 5, 4, 4, 4, 4, 4, 5, 2, 5, 1, 1, 5, 5, 5]\n",
      "number(C): 204\n",
      "[4, 3, 5, 4, 4, 2, 4, 5, 5, 3, 3, 2, 3, 5, 2, 5, 4, 3, 1, 5, 5, 5, 4, 4, 3, 2, 4, 1, 4, 5, 4, 2, 4, 3, 3, 1, 3, 1, 2, 3, 4, 4, 4, 3, 3, 3, 4, 3, 3, 4, 4, 5, 4, 4, 4, 4, 4, 4, 2, 4, 4, 4, 4, 4, 4, 5, 5, 4, 5, 3, 5, 2, 3, 5, 3, 3, 2, 1, 1, 4, 3, 4, 5, 4, 2, 1, 2, 4, 2, 4, 5, 5, 5, 5, 3, 2, 3, 3, 2, 4, 4, 1, 4, 4, 3, 3, 4, 2, 3, 5, 3, 4, 4, 4, 5, 2, 4, 1, 1, 3, 4, 1, 3, 1, 2, 1, 4, 2, 4, 2, 2, 3, 2, 3, 1, 1, 1, 1, 3, 5, 4, 3, 3, 3, 3, 1, 5, 4, 3, 4, 4, 2, 3, 3, 4, 5, 3, 3, 5, 5, 4, 2, 4, 5, 3, 1, 1, 1, 4, 5, 4, 1, 4, 5, 3, 5, 2, 4, 2, 4, 3, 4, 5, 5, 4, 5, 4, 2, 4, 3, 4, 5, 5, 1, 3, 3, 2, 3, 1, 5, 5, 5, 5, 5]\n"
     ]
    }
   ],
   "source": [
    "# Trust, all samples\n",
    "print(\"number(A): \" + str(len(jsons_data.loc[jsons_data['type'] == \"A\"]['trust'])))\n",
    "print(str(jsons_data.loc[jsons_data['type'] == \"A\"]['trust'].values.tolist()))\n",
    "\n",
    "print(\"number(B): \" + str(len(jsons_data.loc[jsons_data['type'] == \"B\"]['trust'])))\n",
    "print(str(jsons_data.loc[jsons_data['type'] == \"B\"]['trust'].values.tolist()))\n",
    "\n",
    "print(\"number(C): \" + str(len(jsons_data.loc[jsons_data['type'] == \"C\"]['trust'])))\n",
    "print(str(jsons_data.loc[jsons_data['type'] == \"C\"]['trust'].values.tolist()))"
   ]
  },
  {
   "cell_type": "code",
   "execution_count": 22,
   "metadata": {},
   "outputs": [
    {
     "name": "stdout",
     "output_type": "stream",
     "text": [
      "\n",
      "Interest mean(A): 3.5647058823529414\n",
      "Interest mean(B): 4.145631067961165\n",
      "Interest mean(C): 3.5875\n",
      "Trust mean(A): 3.5588235294117645\n",
      "Trust mean(B): 4.174757281553398\n",
      "Trust mean(C): 3.5625\n",
      "number(A): 170\n",
      "[5, 5, 5, 5, 2, 4, 5, 4, 4, 5, 4, 2, 4, 2, 2, 4, 5, 2, 3, 1, 1, 1, 4, 5, 5, 3, 2, 1, 4, 5, 4, 4, 3, 2, 5, 4, 3, 3, 4, 4, 4, 5, 4, 3, 4, 5, 4, 5, 5, 4, 4, 3, 3, 5, 5, 5, 2, 5, 2, 4, 4, 1, 4, 4, 4, 5, 3, 2, 3, 4, 5, 4, 4, 5, 4, 1, 2, 3, 5, 4, 4, 4, 1, 4, 2, 3, 5, 5, 5, 5, 5, 1, 3, 4, 5, 3, 5, 5, 4, 3, 1, 2, 3, 2, 2, 3, 1, 3, 1, 2, 3, 3, 4, 2, 4, 5, 2, 3, 5, 4, 5, 1, 5, 2, 5, 5, 5, 5, 2, 2, 5, 5, 3, 4, 2, 4, 4, 3, 3, 3, 2, 5, 3, 5, 3, 3, 4, 5, 5, 3, 3, 3, 5, 3, 3, 5, 5, 5, 5, 1, 1, 3, 5, 4, 2, 5, 3, 1, 5, 5]\n",
      "number(B): 103\n",
      "[4, 5, 5, 5, 4, 5, 5, 5, 5, 4, 4, 5, 5, 5, 5, 5, 5, 5, 5, 5, 4, 3, 3, 5, 3, 5, 5, 5, 4, 5, 5, 4, 4, 5, 5, 4, 3, 1, 3, 4, 3, 4, 5, 5, 2, 4, 3, 5, 4, 5, 5, 4, 5, 4, 4, 5, 4, 4, 4, 3, 5, 3, 3, 3, 5, 3, 3, 1, 1, 5, 3, 5, 3, 5, 5, 3, 5, 5, 5, 5, 5, 4, 2, 3, 4, 5, 4, 5, 5, 5, 5, 4, 5, 3, 3, 3, 5, 3, 5, 1, 5, 5, 4]\n",
      "number(C): 160\n",
      "[5, 5, 5, 5, 5, 3, 4, 5, 5, 3, 2, 5, 2, 4, 3, 2, 5, 5, 4, 4, 2, 4, 4, 5, 4, 4, 2, 4, 4, 4, 3, 3, 4, 4, 3, 4, 4, 5, 3, 4, 4, 5, 5, 4, 1, 5, 3, 4, 5, 4, 5, 5, 5, 4, 5, 2, 5, 2, 3, 5, 4, 4, 3, 1, 4, 4, 5, 4, 4, 3, 5, 5, 5, 5, 2, 2, 2, 2, 5, 3, 1, 5, 3, 4, 4, 5, 4, 5, 5, 5, 5, 3, 5, 1, 5, 1, 1, 4, 2, 4, 1, 5, 1, 5, 1, 2, 1, 4, 4, 2, 4, 2, 3, 4, 3, 5, 2, 3, 5, 5, 2, 2, 5, 5, 4, 2, 4, 5, 3, 1, 1, 1, 4, 4, 3, 3, 5, 5, 3, 2, 3, 3, 4, 5, 5, 5, 4, 2, 4, 2, 3, 3, 1, 3, 2, 3, 5, 3, 5, 3]\n",
      "number(A): 170\n",
      "[4, 5, 5, 5, 3, 4, 5, 4, 4, 4, 4, 3, 5, 3, 3, 3, 4, 2, 3, 1, 1, 1, 2, 4, 5, 3, 1, 1, 2, 5, 4, 4, 3, 2, 4, 5, 4, 3, 5, 4, 5, 4, 4, 3, 4, 4, 4, 4, 5, 4, 5, 5, 5, 5, 5, 5, 2, 5, 3, 4, 4, 2, 2, 3, 3, 3, 3, 1, 3, 4, 5, 5, 5, 5, 3, 3, 3, 3, 4, 3, 3, 4, 4, 4, 3, 3, 4, 4, 4, 4, 2, 1, 3, 2, 5, 3, 5, 5, 3, 4, 2, 2, 3, 2, 2, 3, 2, 2, 2, 1, 4, 4, 4, 3, 3, 4, 3, 3, 5, 4, 4, 1, 3, 2, 4, 5, 5, 5, 2, 2, 5, 5, 3, 4, 2, 4, 4, 3, 3, 3, 3, 5, 5, 5, 4, 4, 4, 5, 5, 5, 3, 3, 5, 3, 3, 5, 5, 5, 5, 2, 2, 3, 5, 4, 2, 5, 3, 1, 5, 5]\n",
      "number(B): 103\n",
      "[4, 5, 5, 5, 4, 5, 5, 4, 4, 4, 4, 5, 4, 5, 5, 5, 5, 4, 5, 5, 4, 3, 3, 4, 3, 5, 5, 5, 4, 4, 4, 4, 4, 5, 5, 5, 4, 3, 1, 2, 4, 5, 5, 5, 3, 3, 3, 4, 4, 4, 5, 4, 5, 4, 4, 4, 4, 4, 3, 5, 5, 3, 4, 3, 5, 4, 3, 1, 3, 5, 4, 3, 3, 4, 5, 4, 5, 5, 5, 5, 5, 5, 4, 5, 5, 5, 3, 5, 5, 5, 5, 4, 4, 4, 4, 4, 5, 2, 5, 1, 5, 5, 5]\n",
      "number(C): 160\n",
      "[4, 3, 5, 4, 4, 2, 4, 5, 5, 3, 3, 5, 2, 5, 4, 3, 5, 5, 4, 4, 2, 4, 4, 5, 4, 3, 3, 4, 4, 4, 3, 3, 4, 3, 3, 4, 4, 5, 4, 4, 4, 4, 4, 4, 2, 4, 4, 4, 4, 4, 4, 5, 5, 4, 5, 3, 5, 2, 3, 5, 3, 2, 1, 1, 4, 4, 5, 4, 2, 4, 5, 5, 5, 5, 3, 2, 3, 3, 4, 4, 1, 4, 4, 3, 3, 5, 3, 4, 4, 4, 5, 3, 4, 1, 3, 2, 1, 4, 2, 4, 2, 3, 2, 3, 1, 1, 1, 3, 5, 4, 3, 3, 3, 3, 4, 4, 2, 3, 4, 5, 3, 3, 5, 5, 4, 2, 4, 5, 3, 1, 1, 1, 4, 5, 4, 4, 5, 5, 2, 2, 4, 3, 4, 5, 5, 5, 4, 2, 4, 3, 5, 5, 1, 3, 2, 3, 5, 5, 5, 5]\n"
     ]
    }
   ],
   "source": [
    "# Filter out results with no details:\n",
    "print(str())\n",
    "\n",
    "# now that we have the pertinent json data in our DataFrame let's look at it\n",
    "print(\"Interest mean(A): \" + str(jsons_data.loc[jsons_data['type'] == \"A\"].loc[jsons_data['hasDetails']]['interest'].mean()))\n",
    "print(\"Interest mean(B): \" + str(jsons_data.loc[jsons_data['type'] == \"B\"].loc[jsons_data['hasDetails']]['interest'].mean()))\n",
    "print(\"Interest mean(C): \" + str(jsons_data.loc[jsons_data['type'] == \"C\"].loc[jsons_data['hasDetails']]['interest'].mean()))\n",
    "print(\"Trust mean(A): \" + str(jsons_data.loc[jsons_data['type'] == \"A\"].loc[jsons_data['hasDetails']]['trust'].mean()))\n",
    "print(\"Trust mean(B): \" + str(jsons_data.loc[jsons_data['type'] == \"B\"].loc[jsons_data['hasDetails']]['trust'].mean()))\n",
    "print(\"Trust mean(C): \" + str(jsons_data.loc[jsons_data['type'] == \"C\"].loc[jsons_data['hasDetails']]['trust'].mean()))\n",
    "\n",
    "# Interest\n",
    "print(\"number(A): \" + str(len(jsons_data.loc[jsons_data['type'] == \"A\"].loc[jsons_data['hasDetails']]['interest'])))\n",
    "print(str(jsons_data.loc[jsons_data['type'] == \"A\"].loc[jsons_data['hasDetails']]['interest'].values.tolist()))\n",
    "\n",
    "print(\"number(B): \" + str(len(jsons_data.loc[jsons_data['type'] == \"B\"].loc[jsons_data['hasDetails']]['interest'])))\n",
    "print(str(jsons_data.loc[jsons_data['type'] == \"B\"].loc[jsons_data['hasDetails']]['interest'].values.tolist()))\n",
    "\n",
    "print(\"number(C): \" + str(len(jsons_data.loc[jsons_data['type'] == \"C\"].loc[jsons_data['hasDetails']]['interest'])))\n",
    "print(str(jsons_data.loc[jsons_data['type'] == \"C\"].loc[jsons_data['hasDetails']]['interest'].values.tolist()))\n",
    "\n",
    "# Trust\n",
    "print(\"number(A): \" + str(len(jsons_data.loc[jsons_data['type'] == \"A\"].loc[jsons_data['hasDetails']]['trust'])))\n",
    "print(str(jsons_data.loc[jsons_data['type'] == \"A\"].loc[jsons_data['hasDetails']]['trust'].values.tolist()))\n",
    "\n",
    "print(\"number(B): \" + str(len(jsons_data.loc[jsons_data['type'] == \"B\"].loc[jsons_data['hasDetails']]['trust'])))\n",
    "print(str(jsons_data.loc[jsons_data['type'] == \"B\"].loc[jsons_data['hasDetails']]['trust'].values.tolist()))\n",
    "\n",
    "print(\"number(C): \" + str(len(jsons_data.loc[jsons_data['type'] == \"C\"].loc[jsons_data['hasDetails']]['trust'])))\n",
    "print(str(jsons_data.loc[jsons_data['type'] == \"C\"].loc[jsons_data['hasDetails']]['trust'].values.tolist()))"
   ]
  },
  {
   "cell_type": "code",
   "execution_count": 11,
   "metadata": {},
   "outputs": [
    {
     "name": "stdout",
     "output_type": "stream",
     "text": [
      "   type  interest  trust\n",
      "0     A       4.4    4.4\n",
      "1     B       4.5    4.5\n",
      "2     C       5.0    4.0\n",
      "3     A       4.2    4.2\n",
      "4     B       4.8    4.8\n",
      "..  ...       ...    ...\n",
      "91    B       3.0    2.8\n",
      "92    C       2.4    2.4\n",
      "93    A       3.8    3.8\n",
      "94    B       4.5    5.0\n",
      "95    C       4.2    5.0\n",
      "\n",
      "[96 rows x 3 columns]\n",
      "Interest mean(A): 3.49375\n",
      "Interest mean(B): 4.10625\n",
      "Interest mean(C): 3.4593749999999996\n",
      "Trust mean(A): 3.4625000000000004\n",
      "Trust mean(B): 4.110416666666667\n",
      "Trust mean(C): 3.35\n"
     ]
    }
   ],
   "source": [
    "# here I define my pandas Dataframe with the columns I want to get from the json\n",
    "jsons_data = pd.DataFrame(columns=['type', 'interest', 'trust'])\n",
    "\n",
    "# we need both the json and an index number so use enumerate()\n",
    "index = 0\n",
    "for js in json_files:\n",
    "    with open(os.path.join(path_to_json, js), \"r\") as json_file:\n",
    "        json_text = json.load(json_file)\n",
    "        a_interest = []\n",
    "        a_trust = []\n",
    "        b_interest = []\n",
    "        b_trust = []\n",
    "        c_interest = []\n",
    "        c_trust = []        \n",
    "\n",
    "        response = json_text['response']\n",
    "        for review in response:\n",
    "            type_var = review['type']\n",
    "            interest = review['interest']\n",
    "            trust = review['trust']\n",
    "            hasDetails = review['hasDetails']\n",
    "            if (type_var == 'A'):\n",
    "                a_interest.append(interest)\n",
    "                a_trust.append(trust)\n",
    "            if (type_var == 'B'):\n",
    "                b_interest.append(interest)\n",
    "                b_trust.append(trust)\n",
    "            if (type_var == 'C'):\n",
    "                c_interest.append(interest)\n",
    "                c_trust.append(trust)\n",
    "                \n",
    "        if b_interest:            \n",
    "            # here I push a list of data into a pandas DataFrame at row given by 'index'\n",
    "            jsons_data.loc[index] = ['A', statistics.mean(a_interest), statistics.mean(a_trust)]\n",
    "            index += 1\n",
    "            jsons_data.loc[index] = ['B', statistics.mean(b_interest), statistics.mean(b_trust)]\n",
    "            index += 1\n",
    "            jsons_data.loc[index] = ['C', statistics.mean(c_interest), statistics.mean(c_trust)]\n",
    "            index += 1\n",
    "\n",
    "# now that we have the pertinent json data in our DataFrame let's look at it\n",
    "print(jsons_data)\n",
    "print(\"Interest mean(A): \" + str(jsons_data.loc[jsons_data['type'] == \"A\"]['interest'].mean()))\n",
    "print(\"Interest mean(B): \" + str(jsons_data.loc[jsons_data['type'] == \"B\"]['interest'].mean()))\n",
    "print(\"Interest mean(C): \" + str(jsons_data.loc[jsons_data['type'] == \"C\"]['interest'].mean()))\n",
    "print(\"Trust mean(A): \" + str(jsons_data.loc[jsons_data['type'] == \"A\"]['trust'].mean()))\n",
    "print(\"Trust mean(B): \" + str(jsons_data.loc[jsons_data['type'] == \"B\"]['trust'].mean()))\n",
    "print(\"Trust mean(C): \" + str(jsons_data.loc[jsons_data['type'] == \"C\"]['trust'].mean()))"
   ]
  },
  {
   "cell_type": "code",
   "execution_count": 13,
   "metadata": {},
   "outputs": [
    {
     "name": "stdout",
     "output_type": "stream",
     "text": [
      "number(A): 32\n",
      "[4.4, 4.2, 3.4, 3.0, 1.4, 3.6, 3.6, 3.8, 4.2, 3.8, 2.8, 3.6, 2.8, 4.4, 2.4, 3.6, 3.2, 4.6, 2.8, 4.4, 2.8, 3.2, 3.6, 3.8, 3.8, 3.4, 3.6, 4.0, 4.4, 1.6, 3.8, 3.8]\n",
      "number(B): 32\n",
      "[4.5, 4.8, 4.5, 5.0, 5.0, 5.0, 3.3333333333333335, 4.6, 4.4, 5.0, 3.5, 1.0, 3.5, 4.2, 3.0, 4.666666666666667, 4.5, 4.2, 3.0, 4.0, 2.4, 5.0, 4.0, 4.6, 5.0, 5.0, 3.6, 4.0, 4.8, 3.8, 3.0, 4.5]\n",
      "number(C): 32\n",
      "[5.0, 4.0, 3.0, 4.2, 3.2, 4.0, 3.6, 3.6, 4.0, 4.2, 3.2, 3.5, 2.6, 4.6, 1.8, 3.4, 3.2, 4.8, 4.6, 3.0, 1.8, 3.0, 3.2, 3.8, 4.0, 2.0, 3.2, 3.4, 3.8, 2.4, 2.4, 4.2]\n",
      "number(A): 32\n",
      "[4.4, 4.2, 3.2, 2.8, 1.4, 3.0, 3.6, 3.8, 3.8, 4.2, 2.8, 2.6, 2.6, 4.8, 2.8, 3.6, 3.4, 3.8, 1.8, 4.2, 3.2, 3.2, 2.8, 3.8, 3.8, 3.4, 4.4, 4.6, 4.4, 2.8, 3.8, 3.8]\n",
      "number(B): 32\n",
      "[4.5, 4.8, 4.0, 4.75, 5.0, 4.75, 3.3333333333333335, 4.4, 4.0, 5.0, 4.5, 3.0, 1.5, 4.8, 3.0, 4.0, 4.5, 3.8, 3.6, 4.0, 2.4, 5.0, 3.5, 4.8, 5.0, 5.0, 4.8, 3.0, 4.8, 4.2, 2.8, 5.0]\n",
      "number(C): 32\n",
      "[4.0, 3.8, 3.0, 4.2, 3.2, 3.2, 3.6, 3.4, 3.6, 4.0, 2.2, 4.0, 2.2, 4.8, 2.6, 3.4, 3.0, 4.0, 2.6, 2.4, 1.4, 3.6, 3.2, 4.0, 4.0, 2.0, 3.8, 3.2, 3.8, 3.6, 2.4, 5.0]\n"
     ]
    }
   ],
   "source": [
    "# Interest, all samples\n",
    "print(\"number(A): \" + str(len(jsons_data.loc[jsons_data['type'] == \"A\"]['interest'])))\n",
    "print(str(jsons_data.loc[jsons_data['type'] == \"A\"]['interest'].values.tolist()))\n",
    "\n",
    "print(\"number(B): \" + str(len(jsons_data.loc[jsons_data['type'] == \"B\"]['interest'])))\n",
    "print(str(jsons_data.loc[jsons_data['type'] == \"B\"]['interest'].values.tolist()))\n",
    "\n",
    "print(\"number(C): \" + str(len(jsons_data.loc[jsons_data['type'] == \"C\"]['interest'])))\n",
    "print(str(jsons_data.loc[jsons_data['type'] == \"C\"]['interest'].values.tolist()))\n",
    "\n",
    "# Trust, all samples\n",
    "print(\"number(A): \" + str(len(jsons_data.loc[jsons_data['type'] == \"A\"]['trust'])))\n",
    "print(str(jsons_data.loc[jsons_data['type'] == \"A\"]['trust'].values.tolist()))\n",
    "\n",
    "print(\"number(B): \" + str(len(jsons_data.loc[jsons_data['type'] == \"B\"]['trust'])))\n",
    "print(str(jsons_data.loc[jsons_data['type'] == \"B\"]['trust'].values.tolist()))\n",
    "\n",
    "print(\"number(C): \" + str(len(jsons_data.loc[jsons_data['type'] == \"C\"]['trust'])))\n",
    "print(str(jsons_data.loc[jsons_data['type'] == \"C\"]['trust'].values.tolist()))"
   ]
  },
  {
   "cell_type": "code",
   "execution_count": 14,
   "metadata": {},
   "outputs": [
    {
     "name": "stdout",
     "output_type": "stream",
     "text": [
      "   type  interest     trust\n",
      "0     A  4.400000  4.400000\n",
      "1     B  4.500000  4.500000\n",
      "2     C  5.000000  4.000000\n",
      "3     A  4.250000  4.250000\n",
      "4     B  4.800000  4.800000\n",
      "..  ...       ...       ...\n",
      "91    B  3.500000  3.250000\n",
      "92    C  2.666667  2.666667\n",
      "93    A  3.500000  3.500000\n",
      "94    B  4.500000  5.000000\n",
      "95    C  4.000000  5.000000\n",
      "\n",
      "[96 rows x 3 columns]\n",
      "Interest mean(A): 3.588020833333333\n",
      "Interest mean(B): 4.1265625\n",
      "Interest mean(C): 3.64375\n",
      "Trust mean(A): 3.540625\n",
      "Trust mean(B): 4.154166666666667\n",
      "Trust mean(C): 3.5546875\n"
     ]
    }
   ],
   "source": [
    "# Only ones with details\n",
    "# here I define my pandas Dataframe with the columns I want to get from the json\n",
    "jsons_data = pd.DataFrame(columns=['type', 'interest', 'trust'])\n",
    "\n",
    "# we need both the json and an index number so use enumerate()\n",
    "index = 0\n",
    "for js in json_files:\n",
    "    with open(os.path.join(path_to_json, js), \"r\") as json_file:\n",
    "        json_text = json.load(json_file)\n",
    "        a_interest = []\n",
    "        a_trust = []\n",
    "        b_interest = []\n",
    "        b_trust = []\n",
    "        c_interest = []\n",
    "        c_trust = []        \n",
    "\n",
    "        response = json_text['response']\n",
    "        for review in response:\n",
    "            type_var = review['type']\n",
    "            interest = review['interest']\n",
    "            trust = review['trust']\n",
    "            hasDetails = review['hasDetails']\n",
    "            if hasDetails:\n",
    "                if (type_var == 'A'):\n",
    "                    a_interest.append(interest)\n",
    "                    a_trust.append(trust)\n",
    "                if (type_var == 'B'):\n",
    "                    b_interest.append(interest)\n",
    "                    b_trust.append(trust)\n",
    "                if (type_var == 'C'):\n",
    "                    c_interest.append(interest)\n",
    "                    c_trust.append(trust)\n",
    "                \n",
    "        if b_interest:            \n",
    "            # here I push a list of data into a pandas DataFrame at row given by 'index'\n",
    "            jsons_data.loc[index] = ['A', statistics.mean(a_interest), statistics.mean(a_trust)]\n",
    "            index += 1\n",
    "            jsons_data.loc[index] = ['B', statistics.mean(b_interest), statistics.mean(b_trust)]\n",
    "            index += 1\n",
    "            jsons_data.loc[index] = ['C', statistics.mean(c_interest), statistics.mean(c_trust)]\n",
    "            index += 1\n",
    "\n",
    "# now that we have the pertinent json data in our DataFrame let's look at it\n",
    "print(jsons_data)\n",
    "print(\"Interest mean(A): \" + str(jsons_data.loc[jsons_data['type'] == \"A\"]['interest'].mean()))\n",
    "print(\"Interest mean(B): \" + str(jsons_data.loc[jsons_data['type'] == \"B\"]['interest'].mean()))\n",
    "print(\"Interest mean(C): \" + str(jsons_data.loc[jsons_data['type'] == \"C\"]['interest'].mean()))\n",
    "print(\"Trust mean(A): \" + str(jsons_data.loc[jsons_data['type'] == \"A\"]['trust'].mean()))\n",
    "print(\"Trust mean(B): \" + str(jsons_data.loc[jsons_data['type'] == \"B\"]['trust'].mean()))\n",
    "print(\"Trust mean(C): \" + str(jsons_data.loc[jsons_data['type'] == \"C\"]['trust'].mean()))"
   ]
  },
  {
   "cell_type": "code",
   "execution_count": 15,
   "metadata": {},
   "outputs": [
    {
     "name": "stdout",
     "output_type": "stream",
     "text": [
      "number(A): 32\n",
      "[4.4, 4.25, 3.6666666666666665, 3.25, 1.5, 4.25, 3.6, 3.75, 4.2, 4.5, 3.3333333333333335, 3.6, 2.6666666666666665, 4.4, 2.5, 3.6, 3.0, 5.0, 3.25, 4.4, 3.0, 3.2, 3.6, 3.8, 3.8, 3.4, 3.6, 4.0, 5.0, 1.0, 3.8, 3.5]\n",
      "number(B): 32\n",
      "[4.5, 4.8, 4.5, 5.0, 5.0, 5.0, 3.3333333333333335, 4.6, 4.4, 5.0, 3.5, 1.0, 3.5, 4.25, 3.0, 4.666666666666667, 4.5, 4.2, 3.5, 4.0, 2.0, 5.0, 4.0, 4.6, 5.0, 5.0, 3.6, 4.0, 4.8, 3.8, 3.5, 4.5]\n",
      "number(C): 32\n",
      "[5.0, 4.0, 3.0, 4.5, 3.75, 4.0, 3.6, 3.75, 4.0, 4.2, 3.2, 4.5, 4.0, 4.6, 2.0, 3.4, 4.0, 4.8, 5.0, 3.5, 2.0, 3.0, 3.25, 3.8, 4.0, 2.0, 3.75, 3.3333333333333335, 3.75, 2.25, 2.6666666666666665, 4.0]\n",
      "number(A): 32\n",
      "[4.4, 4.25, 3.6666666666666665, 3.0, 1.5, 3.5, 3.6, 4.0, 3.8, 4.5, 3.6666666666666665, 2.6, 2.3333333333333335, 4.8, 3.0, 3.6, 3.3333333333333335, 4.0, 2.0, 4.2, 3.25, 3.2, 2.8, 3.8, 3.8, 3.4, 4.4, 4.6, 5.0, 2.0, 3.8, 3.5]\n",
      "number(B): 32\n",
      "[4.5, 4.8, 4.0, 4.75, 5.0, 4.75, 3.3333333333333335, 4.4, 4.0, 5.0, 4.5, 3.0, 1.5, 4.75, 3.0, 4.0, 4.5, 3.8, 4.25, 4.0, 2.75, 5.0, 3.5, 4.8, 5.0, 5.0, 4.8, 3.0, 4.8, 4.2, 3.25, 5.0]\n",
      "number(C): 32\n",
      "[4.0, 3.8, 3.3333333333333335, 4.5, 3.75, 3.5, 3.6, 3.5, 3.6, 4.0, 2.2, 4.5, 3.0, 4.8, 2.75, 3.4, 3.0, 4.0, 5.0, 2.75, 1.5, 3.6, 3.25, 4.0, 4.0, 2.0, 4.5, 3.0, 3.75, 3.5, 2.6666666666666665, 5.0]\n"
     ]
    }
   ],
   "source": [
    "# Interest, all samples\n",
    "print(\"number(A): \" + str(len(jsons_data.loc[jsons_data['type'] == \"A\"]['interest'])))\n",
    "print(str(jsons_data.loc[jsons_data['type'] == \"A\"]['interest'].values.tolist()))\n",
    "\n",
    "print(\"number(B): \" + str(len(jsons_data.loc[jsons_data['type'] == \"B\"]['interest'])))\n",
    "print(str(jsons_data.loc[jsons_data['type'] == \"B\"]['interest'].values.tolist()))\n",
    "\n",
    "print(\"number(C): \" + str(len(jsons_data.loc[jsons_data['type'] == \"C\"]['interest'])))\n",
    "print(str(jsons_data.loc[jsons_data['type'] == \"C\"]['interest'].values.tolist()))\n",
    "\n",
    "# Trust, all samples\n",
    "print(\"number(A): \" + str(len(jsons_data.loc[jsons_data['type'] == \"A\"]['trust'])))\n",
    "print(str(jsons_data.loc[jsons_data['type'] == \"A\"]['trust'].values.tolist()))\n",
    "\n",
    "print(\"number(B): \" + str(len(jsons_data.loc[jsons_data['type'] == \"B\"]['trust'])))\n",
    "print(str(jsons_data.loc[jsons_data['type'] == \"B\"]['trust'].values.tolist()))\n",
    "\n",
    "print(\"number(C): \" + str(len(jsons_data.loc[jsons_data['type'] == \"C\"]['trust'])))\n",
    "print(str(jsons_data.loc[jsons_data['type'] == \"C\"]['trust'].values.tolist()))"
   ]
  }
 ],
 "metadata": {
  "kernelspec": {
   "display_name": "Python 3",
   "language": "python",
   "name": "python3"
  },
  "language_info": {
   "codemirror_mode": {
    "name": "ipython",
    "version": 3
   },
   "file_extension": ".py",
   "mimetype": "text/x-python",
   "name": "python",
   "nbconvert_exporter": "python",
   "pygments_lexer": "ipython3",
   "version": "3.7.6"
  }
 },
 "nbformat": 4,
 "nbformat_minor": 4
}
