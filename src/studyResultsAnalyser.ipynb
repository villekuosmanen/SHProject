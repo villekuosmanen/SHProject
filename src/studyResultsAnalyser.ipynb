{
 "cells": [
  {
   "cell_type": "code",
   "execution_count": 1,
   "metadata": {},
   "outputs": [],
   "source": [
    "import numpy as np\n",
    "import pandas as pd\n",
    "import os\n",
    "import json"
   ]
  },
  {
   "cell_type": "code",
   "execution_count": 2,
   "metadata": {},
   "outputs": [
    {
     "name": "stdout",
     "output_type": "stream",
     "text": [
      "    type interest trust hasDetails\n",
      "0      A        5     4       True\n",
      "1      C        5     4       True\n",
      "2      A        5     5       True\n",
      "3      C        5     3       True\n",
      "4      C        5     5       True\n",
      "..   ...      ...   ...        ...\n",
      "511    A        5     5       True\n",
      "512    C        5     5       True\n",
      "513    A        5     5      False\n",
      "514    C        5     5      False\n",
      "515    C        3     5       True\n",
      "\n",
      "[516 rows x 4 columns]\n",
      "Interest mean(A): 3.4097560975609755\n",
      "Interest mean(B): 4.08411214953271\n",
      "Interest mean(C): 3.4019607843137254\n",
      "Trust mean(A): 3.4292682926829268\n",
      "Trust mean(B): 4.093457943925234\n",
      "Trust mean(C): 3.3480392156862746\n"
     ]
    }
   ],
   "source": [
    "path_to_json = '../responses/'\n",
    "json_files = [pos_json for pos_json in os.listdir(path_to_json) if pos_json.endswith('.json')]\n",
    "\n",
    "# here I define my pandas Dataframe with the columns I want to get from the json\n",
    "jsons_data = pd.DataFrame(columns=['type', 'interest', 'trust', 'hasDetails'])\n",
    "\n",
    "# we need both the json and an index number so use enumerate()\n",
    "index = 0\n",
    "for js in json_files:\n",
    "    with open(os.path.join(path_to_json, js), \"r\") as json_file:\n",
    "        json_text = json.load(json_file)\n",
    "\n",
    "        # here you need to know the layout of your json and each json has to have\n",
    "        # the same structure (obviously not the structure I have here)\n",
    "        response = json_text['response']\n",
    "        for review in response:\n",
    "            type_var = review['type']\n",
    "            interest = review['interest']\n",
    "            trust = review['trust']\n",
    "            hasDetails = review['hasDetails']\n",
    "            \n",
    "            # here I push a list of data into a pandas DataFrame at row given by 'index'\n",
    "            jsons_data.loc[index] = [type_var, interest, trust, hasDetails]\n",
    "            index += 1\n",
    "\n",
    "# now that we have the pertinent json data in our DataFrame let's look at it\n",
    "print(jsons_data)\n",
    "print(\"Interest mean(A): \" + str(jsons_data.loc[jsons_data['type'] == \"A\"]['interest'].mean()))\n",
    "print(\"Interest mean(B): \" + str(jsons_data.loc[jsons_data['type'] == \"B\"]['interest'].mean()))\n",
    "print(\"Interest mean(C): \" + str(jsons_data.loc[jsons_data['type'] == \"C\"]['interest'].mean()))\n",
    "print(\"Trust mean(A): \" + str(jsons_data.loc[jsons_data['type'] == \"A\"]['trust'].mean()))\n",
    "print(\"Trust mean(B): \" + str(jsons_data.loc[jsons_data['type'] == \"B\"]['trust'].mean()))\n",
    "print(\"Trust mean(C): \" + str(jsons_data.loc[jsons_data['type'] == \"C\"]['trust'].mean()))"
   ]
  },
  {
   "cell_type": "code",
   "execution_count": 20,
   "metadata": {},
   "outputs": [
    {
     "name": "stdout",
     "output_type": "stream",
     "text": [
      "number(A): 205\n",
      "[5, 5, 5, 5, 2, 4, 5, 4, 4, 4, 5, 3, 4, 2, 3, 2, 3, 2, 4, 2, 2, 4, 2, 5, 2, 3, 1, 1, 1, 1, 4, 5, 1, 5, 3, 2, 1, 1, 4, 1, 5, 4, 4, 3, 2, 5, 4, 3, 3, 4, 4, 4, 4, 5, 4, 3, 4, 5, 4, 5, 3, 3, 5, 4, 4, 4, 3, 3, 5, 5, 5, 1, 5, 2, 5, 2, 2, 4, 2, 4, 1, 4, 4, 4, 5, 3, 4, 2, 2, 3, 4, 5, 4, 4, 5, 2, 4, 1, 2, 3, 5, 4, 4, 4, 1, 4, 2, 5, 2, 3, 5, 5, 3, 5, 5, 1, 5, 1, 3, 4, 5, 3, 5, 5, 4, 3, 1, 2, 3, 2, 2, 3, 1, 3, 1, 2, 3, 2, 3, 4, 2, 4, 5, 2, 3, 3, 5, 4, 4, 5, 5, 1, 5, 2, 5, 5, 5, 5, 2, 2, 5, 5, 3, 4, 2, 4, 4, 3, 3, 3, 2, 5, 3, 5, 3, 3, 4, 5, 5, 3, 3, 3, 5, 3, 3, 2, 5, 5, 5, 5, 3, 1, 2, 1, 1, 3, 5, 4, 2, 5, 3, 1, 5, 5, 5]\n",
      "number(B): 107\n",
      "[4, 5, 5, 5, 4, 5, 5, 5, 5, 4, 4, 5, 5, 5, 5, 5, 5, 5, 5, 5, 4, 3, 3, 5, 3, 5, 5, 5, 4, 5, 5, 4, 4, 5, 5, 4, 3, 1, 3, 4, 3, 4, 5, 4, 5, 2, 4, 3, 5, 4, 5, 5, 4, 5, 4, 4, 5, 4, 4, 4, 3, 5, 3, 3, 1, 3, 5, 3, 3, 4, 1, 1, 5, 3, 5, 3, 5, 5, 3, 5, 5, 5, 5, 5, 4, 2, 3, 4, 5, 4, 5, 5, 5, 5, 4, 5, 3, 3, 3, 5, 3, 5, 1, 1, 5, 5, 4]\n",
      "number(C): 204\n",
      "[5, 5, 5, 5, 5, 3, 4, 5, 5, 3, 3, 3, 2, 5, 2, 4, 3, 2, 1, 4, 5, 5, 4, 4, 3, 2, 4, 1, 4, 5, 5, 3, 4, 4, 4, 1, 2, 1, 2, 3, 4, 4, 4, 3, 3, 3, 4, 4, 3, 4, 4, 5, 3, 4, 4, 5, 5, 4, 1, 5, 3, 4, 5, 4, 5, 5, 5, 4, 5, 2, 5, 2, 3, 5, 3, 4, 4, 3, 1, 4, 3, 4, 5, 2, 2, 1, 2, 4, 4, 3, 5, 5, 5, 5, 2, 2, 2, 2, 1, 5, 3, 1, 5, 3, 3, 4, 3, 2, 4, 5, 4, 5, 5, 5, 5, 3, 5, 5, 5, 3, 5, 1, 5, 1, 1, 1, 4, 2, 4, 2, 1, 5, 1, 5, 1, 2, 1, 1, 4, 4, 2, 4, 2, 3, 4, 1, 4, 4, 3, 3, 5, 2, 3, 3, 5, 5, 2, 2, 5, 5, 4, 2, 4, 5, 3, 1, 1, 1, 4, 4, 3, 1, 3, 5, 3, 5, 3, 4, 2, 3, 3, 4, 5, 5, 4, 5, 4, 2, 4, 2, 3, 3, 3, 1, 3, 3, 2, 3, 1, 5, 3, 5, 5, 3]\n"
     ]
    }
   ],
   "source": [
    "# Interest, all samples\n",
    "print(\"number(A): \" + str(len(jsons_data.loc[jsons_data['type'] == \"A\"]['interest'])))\n",
    "print(str(jsons_data.loc[jsons_data['type'] == \"A\"]['interest'].values.tolist()))\n",
    "\n",
    "print(\"number(B): \" + str(len(jsons_data.loc[jsons_data['type'] == \"B\"]['interest'])))\n",
    "print(str(jsons_data.loc[jsons_data['type'] == \"B\"]['interest'].values.tolist()))\n",
    "\n",
    "print(\"number(C): \" + str(len(jsons_data.loc[jsons_data['type'] == \"C\"]['interest'])))\n",
    "print(str(jsons_data.loc[jsons_data['type'] == \"C\"]['interest'].values.tolist()))"
   ]
  },
  {
   "cell_type": "code",
   "execution_count": 21,
   "metadata": {},
   "outputs": [
    {
     "name": "stdout",
     "output_type": "stream",
     "text": [
      "number(A): 205\n",
      "[4, 5, 5, 5, 3, 4, 5, 4, 4, 4, 4, 3, 4, 3, 2, 3, 3, 3, 5, 3, 3, 3, 2, 4, 2, 3, 1, 1, 1, 1, 2, 4, 1, 5, 3, 1, 1, 1, 2, 1, 5, 4, 4, 3, 2, 4, 5, 4, 3, 3, 5, 4, 5, 4, 4, 3, 4, 4, 4, 4, 4, 4, 5, 4, 4, 5, 5, 5, 5, 5, 5, 1, 5, 2, 5, 3, 1, 4, 2, 4, 2, 2, 3, 3, 3, 3, 4, 2, 1, 3, 4, 5, 5, 5, 5, 2, 3, 3, 3, 3, 4, 3, 3, 4, 4, 4, 3, 5, 2, 3, 4, 4, 3, 4, 4, 1, 2, 1, 3, 2, 5, 3, 5, 5, 3, 4, 2, 2, 3, 2, 2, 3, 2, 2, 2, 1, 4, 3, 4, 4, 3, 3, 4, 3, 3, 3, 5, 4, 4, 4, 4, 1, 3, 2, 4, 5, 5, 5, 2, 2, 5, 5, 3, 4, 2, 4, 4, 3, 3, 3, 3, 5, 5, 5, 4, 4, 4, 5, 5, 5, 3, 3, 5, 3, 3, 2, 5, 5, 5, 5, 4, 2, 3, 3, 2, 3, 5, 4, 2, 5, 3, 1, 5, 5, 5]\n",
      "number(B): 107\n",
      "[4, 5, 5, 5, 4, 5, 5, 4, 4, 4, 4, 5, 4, 5, 5, 5, 5, 4, 5, 5, 4, 3, 3, 4, 3, 5, 5, 5, 4, 4, 4, 4, 4, 5, 5, 5, 4, 3, 1, 2, 4, 5, 5, 5, 5, 3, 3, 3, 4, 4, 4, 5, 4, 5, 4, 4, 4, 4, 4, 3, 5, 5, 3, 4, 1, 3, 5, 4, 3, 1, 1, 3, 5, 4, 3, 3, 4, 5, 4, 5, 5, 5, 5, 5, 5, 4, 5, 5, 5, 3, 5, 5, 5, 5, 4, 4, 4, 4, 4, 5, 2, 5, 1, 1, 5, 5, 5]\n",
      "number(C): 204\n",
      "[4, 3, 5, 4, 4, 2, 4, 5, 5, 3, 3, 2, 3, 5, 2, 5, 4, 3, 1, 5, 5, 5, 4, 4, 3, 2, 4, 1, 4, 5, 4, 2, 4, 3, 3, 1, 3, 1, 2, 3, 4, 4, 4, 3, 3, 3, 4, 3, 3, 4, 4, 5, 4, 4, 4, 4, 4, 4, 2, 4, 4, 4, 4, 4, 4, 5, 5, 4, 5, 3, 5, 2, 3, 5, 3, 3, 2, 1, 1, 4, 3, 4, 5, 4, 2, 1, 2, 4, 2, 4, 5, 5, 5, 5, 3, 2, 3, 3, 2, 4, 4, 1, 4, 4, 3, 3, 4, 2, 3, 5, 3, 4, 4, 4, 5, 2, 4, 1, 1, 3, 4, 1, 3, 1, 2, 1, 4, 2, 4, 2, 2, 3, 2, 3, 1, 1, 1, 1, 3, 5, 4, 3, 3, 3, 3, 1, 5, 4, 3, 4, 4, 2, 3, 3, 4, 5, 3, 3, 5, 5, 4, 2, 4, 5, 3, 1, 1, 1, 4, 5, 4, 1, 4, 5, 3, 5, 2, 4, 2, 4, 3, 4, 5, 5, 4, 5, 4, 2, 4, 3, 4, 5, 5, 1, 3, 3, 2, 3, 1, 5, 5, 5, 5, 5]\n"
     ]
    }
   ],
   "source": [
    "# Trust, all samples\n",
    "print(\"number(A): \" + str(len(jsons_data.loc[jsons_data['type'] == \"A\"]['trust'])))\n",
    "print(str(jsons_data.loc[jsons_data['type'] == \"A\"]['trust'].values.tolist()))\n",
    "\n",
    "print(\"number(B): \" + str(len(jsons_data.loc[jsons_data['type'] == \"B\"]['trust'])))\n",
    "print(str(jsons_data.loc[jsons_data['type'] == \"B\"]['trust'].values.tolist()))\n",
    "\n",
    "print(\"number(C): \" + str(len(jsons_data.loc[jsons_data['type'] == \"C\"]['trust'])))\n",
    "print(str(jsons_data.loc[jsons_data['type'] == \"C\"]['trust'].values.tolist()))"
   ]
  },
  {
   "cell_type": "code",
   "execution_count": 22,
   "metadata": {},
   "outputs": [
    {
     "name": "stdout",
     "output_type": "stream",
     "text": [
      "\n",
      "Interest mean(A): 3.5647058823529414\n",
      "Interest mean(B): 4.145631067961165\n",
      "Interest mean(C): 3.5875\n",
      "Trust mean(A): 3.5588235294117645\n",
      "Trust mean(B): 4.174757281553398\n",
      "Trust mean(C): 3.5625\n",
      "number(A): 170\n",
      "[5, 5, 5, 5, 2, 4, 5, 4, 4, 5, 4, 2, 4, 2, 2, 4, 5, 2, 3, 1, 1, 1, 4, 5, 5, 3, 2, 1, 4, 5, 4, 4, 3, 2, 5, 4, 3, 3, 4, 4, 4, 5, 4, 3, 4, 5, 4, 5, 5, 4, 4, 3, 3, 5, 5, 5, 2, 5, 2, 4, 4, 1, 4, 4, 4, 5, 3, 2, 3, 4, 5, 4, 4, 5, 4, 1, 2, 3, 5, 4, 4, 4, 1, 4, 2, 3, 5, 5, 5, 5, 5, 1, 3, 4, 5, 3, 5, 5, 4, 3, 1, 2, 3, 2, 2, 3, 1, 3, 1, 2, 3, 3, 4, 2, 4, 5, 2, 3, 5, 4, 5, 1, 5, 2, 5, 5, 5, 5, 2, 2, 5, 5, 3, 4, 2, 4, 4, 3, 3, 3, 2, 5, 3, 5, 3, 3, 4, 5, 5, 3, 3, 3, 5, 3, 3, 5, 5, 5, 5, 1, 1, 3, 5, 4, 2, 5, 3, 1, 5, 5]\n",
      "number(B): 103\n",
      "[4, 5, 5, 5, 4, 5, 5, 5, 5, 4, 4, 5, 5, 5, 5, 5, 5, 5, 5, 5, 4, 3, 3, 5, 3, 5, 5, 5, 4, 5, 5, 4, 4, 5, 5, 4, 3, 1, 3, 4, 3, 4, 5, 5, 2, 4, 3, 5, 4, 5, 5, 4, 5, 4, 4, 5, 4, 4, 4, 3, 5, 3, 3, 3, 5, 3, 3, 1, 1, 5, 3, 5, 3, 5, 5, 3, 5, 5, 5, 5, 5, 4, 2, 3, 4, 5, 4, 5, 5, 5, 5, 4, 5, 3, 3, 3, 5, 3, 5, 1, 5, 5, 4]\n",
      "number(C): 160\n",
      "[5, 5, 5, 5, 5, 3, 4, 5, 5, 3, 2, 5, 2, 4, 3, 2, 5, 5, 4, 4, 2, 4, 4, 5, 4, 4, 2, 4, 4, 4, 3, 3, 4, 4, 3, 4, 4, 5, 3, 4, 4, 5, 5, 4, 1, 5, 3, 4, 5, 4, 5, 5, 5, 4, 5, 2, 5, 2, 3, 5, 4, 4, 3, 1, 4, 4, 5, 4, 4, 3, 5, 5, 5, 5, 2, 2, 2, 2, 5, 3, 1, 5, 3, 4, 4, 5, 4, 5, 5, 5, 5, 3, 5, 1, 5, 1, 1, 4, 2, 4, 1, 5, 1, 5, 1, 2, 1, 4, 4, 2, 4, 2, 3, 4, 3, 5, 2, 3, 5, 5, 2, 2, 5, 5, 4, 2, 4, 5, 3, 1, 1, 1, 4, 4, 3, 3, 5, 5, 3, 2, 3, 3, 4, 5, 5, 5, 4, 2, 4, 2, 3, 3, 1, 3, 2, 3, 5, 3, 5, 3]\n",
      "number(A): 170\n",
      "[4, 5, 5, 5, 3, 4, 5, 4, 4, 4, 4, 3, 5, 3, 3, 3, 4, 2, 3, 1, 1, 1, 2, 4, 5, 3, 1, 1, 2, 5, 4, 4, 3, 2, 4, 5, 4, 3, 5, 4, 5, 4, 4, 3, 4, 4, 4, 4, 5, 4, 5, 5, 5, 5, 5, 5, 2, 5, 3, 4, 4, 2, 2, 3, 3, 3, 3, 1, 3, 4, 5, 5, 5, 5, 3, 3, 3, 3, 4, 3, 3, 4, 4, 4, 3, 3, 4, 4, 4, 4, 2, 1, 3, 2, 5, 3, 5, 5, 3, 4, 2, 2, 3, 2, 2, 3, 2, 2, 2, 1, 4, 4, 4, 3, 3, 4, 3, 3, 5, 4, 4, 1, 3, 2, 4, 5, 5, 5, 2, 2, 5, 5, 3, 4, 2, 4, 4, 3, 3, 3, 3, 5, 5, 5, 4, 4, 4, 5, 5, 5, 3, 3, 5, 3, 3, 5, 5, 5, 5, 2, 2, 3, 5, 4, 2, 5, 3, 1, 5, 5]\n",
      "number(B): 103\n",
      "[4, 5, 5, 5, 4, 5, 5, 4, 4, 4, 4, 5, 4, 5, 5, 5, 5, 4, 5, 5, 4, 3, 3, 4, 3, 5, 5, 5, 4, 4, 4, 4, 4, 5, 5, 5, 4, 3, 1, 2, 4, 5, 5, 5, 3, 3, 3, 4, 4, 4, 5, 4, 5, 4, 4, 4, 4, 4, 3, 5, 5, 3, 4, 3, 5, 4, 3, 1, 3, 5, 4, 3, 3, 4, 5, 4, 5, 5, 5, 5, 5, 5, 4, 5, 5, 5, 3, 5, 5, 5, 5, 4, 4, 4, 4, 4, 5, 2, 5, 1, 5, 5, 5]\n",
      "number(C): 160\n",
      "[4, 3, 5, 4, 4, 2, 4, 5, 5, 3, 3, 5, 2, 5, 4, 3, 5, 5, 4, 4, 2, 4, 4, 5, 4, 3, 3, 4, 4, 4, 3, 3, 4, 3, 3, 4, 4, 5, 4, 4, 4, 4, 4, 4, 2, 4, 4, 4, 4, 4, 4, 5, 5, 4, 5, 3, 5, 2, 3, 5, 3, 2, 1, 1, 4, 4, 5, 4, 2, 4, 5, 5, 5, 5, 3, 2, 3, 3, 4, 4, 1, 4, 4, 3, 3, 5, 3, 4, 4, 4, 5, 3, 4, 1, 3, 2, 1, 4, 2, 4, 2, 3, 2, 3, 1, 1, 1, 3, 5, 4, 3, 3, 3, 3, 4, 4, 2, 3, 4, 5, 3, 3, 5, 5, 4, 2, 4, 5, 3, 1, 1, 1, 4, 5, 4, 4, 5, 5, 2, 2, 4, 3, 4, 5, 5, 5, 4, 2, 4, 3, 5, 5, 1, 3, 2, 3, 5, 5, 5, 5]\n"
     ]
    }
   ],
   "source": [
    "# Filter out results with no details:\n",
    "print(str())\n",
    "\n",
    "# now that we have the pertinent json data in our DataFrame let's look at it\n",
    "print(\"Interest mean(A): \" + str(jsons_data.loc[jsons_data['type'] == \"A\"].loc[jsons_data['hasDetails']]['interest'].mean()))\n",
    "print(\"Interest mean(B): \" + str(jsons_data.loc[jsons_data['type'] == \"B\"].loc[jsons_data['hasDetails']]['interest'].mean()))\n",
    "print(\"Interest mean(C): \" + str(jsons_data.loc[jsons_data['type'] == \"C\"].loc[jsons_data['hasDetails']]['interest'].mean()))\n",
    "print(\"Trust mean(A): \" + str(jsons_data.loc[jsons_data['type'] == \"A\"].loc[jsons_data['hasDetails']]['trust'].mean()))\n",
    "print(\"Trust mean(B): \" + str(jsons_data.loc[jsons_data['type'] == \"B\"].loc[jsons_data['hasDetails']]['trust'].mean()))\n",
    "print(\"Trust mean(C): \" + str(jsons_data.loc[jsons_data['type'] == \"C\"].loc[jsons_data['hasDetails']]['trust'].mean()))\n",
    "\n",
    "# Interest\n",
    "print(\"number(A): \" + str(len(jsons_data.loc[jsons_data['type'] == \"A\"].loc[jsons_data['hasDetails']]['interest'])))\n",
    "print(str(jsons_data.loc[jsons_data['type'] == \"A\"].loc[jsons_data['hasDetails']]['interest'].values.tolist()))\n",
    "\n",
    "print(\"number(B): \" + str(len(jsons_data.loc[jsons_data['type'] == \"B\"].loc[jsons_data['hasDetails']]['interest'])))\n",
    "print(str(jsons_data.loc[jsons_data['type'] == \"B\"].loc[jsons_data['hasDetails']]['interest'].values.tolist()))\n",
    "\n",
    "print(\"number(C): \" + str(len(jsons_data.loc[jsons_data['type'] == \"C\"].loc[jsons_data['hasDetails']]['interest'])))\n",
    "print(str(jsons_data.loc[jsons_data['type'] == \"C\"].loc[jsons_data['hasDetails']]['interest'].values.tolist()))\n",
    "\n",
    "# Trust\n",
    "print(\"number(A): \" + str(len(jsons_data.loc[jsons_data['type'] == \"A\"].loc[jsons_data['hasDetails']]['trust'])))\n",
    "print(str(jsons_data.loc[jsons_data['type'] == \"A\"].loc[jsons_data['hasDetails']]['trust'].values.tolist()))\n",
    "\n",
    "print(\"number(B): \" + str(len(jsons_data.loc[jsons_data['type'] == \"B\"].loc[jsons_data['hasDetails']]['trust'])))\n",
    "print(str(jsons_data.loc[jsons_data['type'] == \"B\"].loc[jsons_data['hasDetails']]['trust'].values.tolist()))\n",
    "\n",
    "print(\"number(C): \" + str(len(jsons_data.loc[jsons_data['type'] == \"C\"].loc[jsons_data['hasDetails']]['trust'])))\n",
    "print(str(jsons_data.loc[jsons_data['type'] == \"C\"].loc[jsons_data['hasDetails']]['trust'].values.tolist()))"
   ]
  }
 ],
 "metadata": {
  "kernelspec": {
   "display_name": "Python 3",
   "language": "python",
   "name": "python3"
  },
  "language_info": {
   "codemirror_mode": {
    "name": "ipython",
    "version": 3
   },
   "file_extension": ".py",
   "mimetype": "text/x-python",
   "name": "python",
   "nbconvert_exporter": "python",
   "pygments_lexer": "ipython3",
   "version": "3.7.6"
  }
 },
 "nbformat": 4,
 "nbformat_minor": 4
}
