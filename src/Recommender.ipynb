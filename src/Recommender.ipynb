{
 "cells": [
  {
   "cell_type": "code",
   "execution_count": 11,
   "metadata": {},
   "outputs": [],
   "source": [
    "import pandas as pd\n",
    "import tensorflow as tf\n",
    "import numpy as np\n",
    "from scipy.sparse import coo_matrix\n",
    "\n",
    "import wals\n",
    "\n",
    "TEST_SET_RATIO = 0.1"
   ]
  },
  {
   "cell_type": "code",
   "execution_count": 12,
   "metadata": {},
   "outputs": [],
   "source": [
    "#Processing the data\n",
    "ratings_df = pd.read_csv(\"../data/ratings.csv\", dtype={\n",
    "                           'userId': np.int32,\n",
    "                           'movieId': np.int32,\n",
    "                           'rating': np.float32,\n",
    "                           'timestamp': np.int32,\n",
    "                         })\n",
    "np_users = ratings_df['userId'].values.astype(int)\n",
    "np_items = ratings_df['movieId'].values.astype(int)"
   ]
  },
  {
   "cell_type": "code",
   "execution_count": 13,
   "metadata": {},
   "outputs": [],
   "source": [
    "unique_users = np.unique(np_users)\n",
    "unique_items = np.unique(np_items)\n",
    "n_users = unique_users.shape[0]\n",
    "n_items = unique_items.shape[0]\n",
    "\n",
    "# make indexes for users and items if necessary\n",
    "max_user = unique_users[-1]\n",
    "max_item = unique_items[-1]\n",
    "if n_users != max_user or n_items != max_item:\n",
    "    # make an array of 0-indexed unique user ids corresponding to the dataset\n",
    "    # stack of user ids\n",
    "    z = np.zeros(max_user+1, dtype=int)\n",
    "    z[unique_users] = np.arange(n_users)\n",
    "    u_r = z[np_users]\n",
    "\n",
    "    # make an array of 0-indexed unique item ids corresponding to the dataset\n",
    "    # stack of item ids\n",
    "    z = np.zeros(max_item+1, dtype=int)\n",
    "    z[unique_items] = np.arange(n_items)\n",
    "    i_r = z[np_items]\n",
    "\n",
    "    # construct the ratings set from the three stacks\n",
    "    np_ratings = ratings_df['rating'].values\n",
    "    ratings = np.zeros((np_ratings.shape[0], 3), dtype=object)\n",
    "    ratings[:, 0] = u_r\n",
    "    ratings[:, 1] = i_r\n",
    "    ratings[:, 2] = np_ratings\n",
    "else:\n",
    "    ratings = ratings_df.as_matrix(['user_id', 'item_id', 'rating'])\n",
    "    # deal with 1-based user indices\n",
    "    ratings[:, 0] -= 1\n",
    "    ratings[:, 1] -= 1"
   ]
  },
  {
   "cell_type": "code",
   "execution_count": 14,
   "metadata": {},
   "outputs": [
    {
     "name": "stdout",
     "output_type": "stream",
     "text": [
      "[  0   0   0 ... 609 609 609] [   0    2    5 ... 9444 9445 9485]\n"
     ]
    }
   ],
   "source": [
    "test_set_size = int(len(ratings) * TEST_SET_RATIO)\n",
    "test_set_idx = np.random.choice(range(len(ratings)),\n",
    "                              size=test_set_size, replace=False)\n",
    "test_set_idx = sorted(test_set_idx)\n",
    "\n",
    "# shift ratings into train and test sets\n",
    "ts_ratings = ratings[test_set_idx]\n",
    "tr_ratings = np.delete(ratings, test_set_idx, axis=0)\n",
    "\n",
    "# create training and test matrices as coo_matrix's\n",
    "u_tr, i_tr, r_tr = zip(*tr_ratings)\n",
    "tr_sparse = coo_matrix((r_tr, (u_tr, i_tr)), shape=(n_users, n_items))\n",
    "\n",
    "u_ts, i_ts, r_ts = zip(*ts_ratings)\n",
    "test_sparse = coo_matrix((r_ts, (u_ts, i_ts)), shape=(n_users, n_items))\n",
    "\n",
    "user_map = ratings[:, 0]\n",
    "item_map = ratings[:, 1]\n",
    "\n",
    "print(tr_sparse.row, tr_sparse.col)"
   ]
  },
  {
   "cell_type": "code",
   "execution_count": 15,
   "metadata": {},
   "outputs": [
    {
     "name": "stdout",
     "output_type": "stream",
     "text": [
      "Train: 1.3769440727535902, Test: 1.9305368406980004\n"
     ]
    }
   ],
   "source": [
    "latent_factors = 14\n",
    "num_iters = 20\n",
    "\n",
    "input_tensor, row_factor, col_factor, model = wals.wals_model(tr_sparse, latent_factors)\n",
    "session = wals.simple_train(model, input_tensor, num_iters)\n",
    "output_row = row_factor.eval(session=session)\n",
    "output_col = col_factor.eval(session=session)\n",
    "\n",
    "# close the training session now that we've evaluated the generateoutput\n",
    "session.close()\n",
    "\n",
    "train_rmse = wals.get_rmse(output_row, output_col, tr_sparse)\n",
    "test_rmse = wals.get_rmse(output_row, output_col, test_sparse)\n",
    "print('Train: ' + str(train_rmse) + ', Test: ' + str(test_rmse))"
   ]
  },
  {
   "cell_type": "code",
   "execution_count": 36,
   "metadata": {},
   "outputs": [],
   "source": [
    "def generate_recommendations(user_idx, user_rated, row_factor, col_factor, k):\n",
    "    \"\"\"Generate recommendations for a user.\n",
    "    Args:\n",
    "        user_idx: the row index of the user in the ratings matrix,\n",
    "        user_rated: the list of item indexes (column indexes in the ratings matrix)\n",
    "            previously rated by that user (which will be excluded from the\n",
    "            recommendations)\n",
    "        row_factor: the row factors of the recommendation model\n",
    "        col_factor: the column factors of the recommendation model\n",
    "        k: number of recommendations requested\n",
    "    Returns:\n",
    "        list of k item indexes with the predicted highest rating, excluding\n",
    "        those that the user has already rated\n",
    "    \"\"\"\n",
    "\n",
    "    # bounds checking for args\n",
    "    assert (row_factor.shape[0] - len(user_rated)) >= k\n",
    "\n",
    "    # retrieve user factor\n",
    "    user_f = row_factor[user_idx]\n",
    "\n",
    "    # dot product of item factors with user factor gives predicted ratings\n",
    "    pred_ratings = col_factor.dot(user_f)\n",
    "\n",
    "    # find candidate recommended item indexes sorted by predicted rating\n",
    "    k_r = k + len(user_rated)\n",
    "    candidate_items = np.argsort(pred_ratings)[-k_r:]\n",
    "\n",
    "    # remove previously rated items and take top k\n",
    "    recommended_items = [i for i in candidate_items if i not in user_rated]\n",
    "    recommended_items = recommended_items[-k:]\n",
    "\n",
    "    # flip to sort highest rated first\n",
    "    recommended_items.reverse()\n",
    "\n",
    "    return recommended_items"
   ]
  },
  {
   "cell_type": "code",
   "execution_count": 37,
   "metadata": {},
   "outputs": [
    {
     "data": {
      "text/plain": [
       "[1066, 2096, 706, 659, 507]"
      ]
     },
     "execution_count": 37,
     "metadata": {},
     "output_type": "execute_result"
    }
   ],
   "source": [
    "user = 0\n",
    "user_rated = [x[1] for x in ratings if x[0] == user]\n",
    "generate_recommendations(user, user_rated, output_row, output_col, 5)"
   ]
  },
  {
   "cell_type": "code",
   "execution_count": null,
   "metadata": {},
   "outputs": [],
   "source": []
  }
 ],
 "metadata": {
  "kernelspec": {
   "display_name": "Python 3",
   "language": "python",
   "name": "python3"
  },
  "language_info": {
   "codemirror_mode": {
    "name": "ipython",
    "version": 3
   },
   "file_extension": ".py",
   "mimetype": "text/x-python",
   "name": "python",
   "nbconvert_exporter": "python",
   "pygments_lexer": "ipython3",
   "version": "3.7.1"
  }
 },
 "nbformat": 4,
 "nbformat_minor": 4
}
