{
 "cells": [
  {
   "cell_type": "code",
   "execution_count": 1,
   "metadata": {},
   "outputs": [
    {
     "name": "stderr",
     "output_type": "stream",
     "text": [
      "/home/ville/uni/SHProject/venv/lib64/python3.7/site-packages/tensorflow/python/framework/dtypes.py:516: FutureWarning: Passing (type, 1) or '1type' as a synonym of type is deprecated; in a future version of numpy, it will be understood as (type, (1,)) / '(1,)type'.\n",
      "  _np_qint8 = np.dtype([(\"qint8\", np.int8, 1)])\n",
      "/home/ville/uni/SHProject/venv/lib64/python3.7/site-packages/tensorflow/python/framework/dtypes.py:517: FutureWarning: Passing (type, 1) or '1type' as a synonym of type is deprecated; in a future version of numpy, it will be understood as (type, (1,)) / '(1,)type'.\n",
      "  _np_quint8 = np.dtype([(\"quint8\", np.uint8, 1)])\n",
      "/home/ville/uni/SHProject/venv/lib64/python3.7/site-packages/tensorflow/python/framework/dtypes.py:518: FutureWarning: Passing (type, 1) or '1type' as a synonym of type is deprecated; in a future version of numpy, it will be understood as (type, (1,)) / '(1,)type'.\n",
      "  _np_qint16 = np.dtype([(\"qint16\", np.int16, 1)])\n",
      "/home/ville/uni/SHProject/venv/lib64/python3.7/site-packages/tensorflow/python/framework/dtypes.py:519: FutureWarning: Passing (type, 1) or '1type' as a synonym of type is deprecated; in a future version of numpy, it will be understood as (type, (1,)) / '(1,)type'.\n",
      "  _np_quint16 = np.dtype([(\"quint16\", np.uint16, 1)])\n",
      "/home/ville/uni/SHProject/venv/lib64/python3.7/site-packages/tensorflow/python/framework/dtypes.py:520: FutureWarning: Passing (type, 1) or '1type' as a synonym of type is deprecated; in a future version of numpy, it will be understood as (type, (1,)) / '(1,)type'.\n",
      "  _np_qint32 = np.dtype([(\"qint32\", np.int32, 1)])\n",
      "/home/ville/uni/SHProject/venv/lib64/python3.7/site-packages/tensorflow/python/framework/dtypes.py:525: FutureWarning: Passing (type, 1) or '1type' as a synonym of type is deprecated; in a future version of numpy, it will be understood as (type, (1,)) / '(1,)type'.\n",
      "  np_resource = np.dtype([(\"resource\", np.ubyte, 1)])\n",
      "/home/ville/uni/SHProject/venv/lib64/python3.7/site-packages/tensorboard/compat/tensorflow_stub/dtypes.py:541: FutureWarning: Passing (type, 1) or '1type' as a synonym of type is deprecated; in a future version of numpy, it will be understood as (type, (1,)) / '(1,)type'.\n",
      "  _np_qint8 = np.dtype([(\"qint8\", np.int8, 1)])\n",
      "/home/ville/uni/SHProject/venv/lib64/python3.7/site-packages/tensorboard/compat/tensorflow_stub/dtypes.py:542: FutureWarning: Passing (type, 1) or '1type' as a synonym of type is deprecated; in a future version of numpy, it will be understood as (type, (1,)) / '(1,)type'.\n",
      "  _np_quint8 = np.dtype([(\"quint8\", np.uint8, 1)])\n",
      "/home/ville/uni/SHProject/venv/lib64/python3.7/site-packages/tensorboard/compat/tensorflow_stub/dtypes.py:543: FutureWarning: Passing (type, 1) or '1type' as a synonym of type is deprecated; in a future version of numpy, it will be understood as (type, (1,)) / '(1,)type'.\n",
      "  _np_qint16 = np.dtype([(\"qint16\", np.int16, 1)])\n",
      "/home/ville/uni/SHProject/venv/lib64/python3.7/site-packages/tensorboard/compat/tensorflow_stub/dtypes.py:544: FutureWarning: Passing (type, 1) or '1type' as a synonym of type is deprecated; in a future version of numpy, it will be understood as (type, (1,)) / '(1,)type'.\n",
      "  _np_quint16 = np.dtype([(\"quint16\", np.uint16, 1)])\n",
      "/home/ville/uni/SHProject/venv/lib64/python3.7/site-packages/tensorboard/compat/tensorflow_stub/dtypes.py:545: FutureWarning: Passing (type, 1) or '1type' as a synonym of type is deprecated; in a future version of numpy, it will be understood as (type, (1,)) / '(1,)type'.\n",
      "  _np_qint32 = np.dtype([(\"qint32\", np.int32, 1)])\n",
      "/home/ville/uni/SHProject/venv/lib64/python3.7/site-packages/tensorboard/compat/tensorflow_stub/dtypes.py:550: FutureWarning: Passing (type, 1) or '1type' as a synonym of type is deprecated; in a future version of numpy, it will be understood as (type, (1,)) / '(1,)type'.\n",
      "  np_resource = np.dtype([(\"resource\", np.ubyte, 1)])\n"
     ]
    }
   ],
   "source": [
    "import pandas as pd\n",
    "import tensorflow as tf\n",
    "import numpy as np\n",
    "from scipy.sparse import coo_matrix\n",
    "\n",
    "import wals\n",
    "import model"
   ]
  },
  {
   "cell_type": "code",
   "execution_count": 2,
   "metadata": {},
   "outputs": [],
   "source": [
    "user_map, item_map, train_sparse, test_sparse = model.clean_data(\"../data/ratings.csv\")"
   ]
  },
  {
   "cell_type": "code",
   "execution_count": 3,
   "metadata": {},
   "outputs": [
    {
     "name": "stdout",
     "output_type": "stream",
     "text": [
      "WARNING:tensorflow:From /home/ville/uni/SHProject/src/wals.py:57: The name tf.Session is deprecated. Please use tf.compat.v1.Session instead.\n",
      "\n",
      "Train: 1.3742425311004718, Test: 1.936009587635589\n"
     ]
    }
   ],
   "source": [
    "latent_factors = 14\n",
    "num_iters = 20\n",
    "\n",
    "output_row, output_col = model.train_model(train_sparse, latent_factors, num_iters)\n",
    "\n",
    "train_rmse = wals.get_rmse(output_row, output_col, train_sparse)\n",
    "test_rmse = wals.get_rmse(output_row, output_col, test_sparse)\n",
    "print('Train: ' + str(train_rmse) + ', Test: ' + str(test_rmse))"
   ]
  },
  {
   "cell_type": "code",
   "execution_count": 5,
   "metadata": {},
   "outputs": [
    {
     "name": "stdout",
     "output_type": "stream",
     "text": [
      "[0, 2, 5, 43, 46, 62, 89, 97, 124, 130, 136, 184, 190, 197, 201, 224, 257, 275, 291, 307, 314, 320, 325, 367, 384, 398, 418, 436, 461, 476, 484, 485, 508, 509, 510, 513, 520, 546, 551, 559, 592, 594, 615, 632, 701, 705, 720, 723, 734, 767, 781, 782, 783, 786, 787, 788, 789, 797, 801, 810, 815, 819, 827, 828, 830, 835, 855, 862, 897, 898, 899, 906, 908, 910, 913, 914, 919, 920, 922, 924, 926, 938, 954, 956, 963, 968, 973, 976, 980, 989, 995, 1035, 1059, 1075, 1083, 1109, 1125, 1145, 1153, 1170, 1180, 1182, 1189, 1217, 1219, 1223, 1234, 1260, 1297, 1318, 1325, 1331, 1332, 1400, 1406, 1430, 1443, 1474, 1479, 1486, 1492, 1502, 1504, 1515, 1516, 1521, 1525, 1542, 1552, 1555, 1556, 1558, 1561, 1566, 1575, 1576, 1594, 1596, 1598, 1600, 1616, 1627, 1643, 1673, 1686, 1690, 1703, 1733, 1742, 1754, 1767, 1787, 1789, 1795, 1805, 1813, 1825, 1841, 1849, 1857, 1865, 1873, 1882, 1903, 1904, 1916, 1938, 1945, 1956, 1970, 1971, 1978, 1985, 1986, 1989, 1990, 1993, 1996, 2019, 2027, 2037, 2076, 2102, 2125, 2144, 2156, 2181, 2192, 2214, 2216, 2217, 2218, 2224, 2246, 2248, 2252, 2254, 2257, 2284, 2285, 2300, 2301, 2308, 2370, 2386, 2392, 2429, 2432, 2438, 2458, 2523, 2568, 2569, 2570, 2576, 2578, 2599, 2604, 2632, 2670, 2692, 2709, 2729, 2760, 2761, 2784, 2794, 2798, 2832, 2843, 2987, 3668]\n"
     ]
    },
    {
     "data": {
      "text/plain": [
       "[1066, 659, 901, 507, 915, 2096]"
      ]
     },
     "execution_count": 5,
     "metadata": {},
     "output_type": "execute_result"
    }
   ],
   "source": [
    "user = 0\n",
    "user_rated = [item_map[i] for i, x in enumerate(user_map) if x == user]\n",
    "print(user_rated)\n",
    "model.generate_recommendations(user, user_rated, output_row, output_col, 6)"
   ]
  },
  {
   "cell_type": "code",
   "execution_count": null,
   "metadata": {},
   "outputs": [],
   "source": []
  }
 ],
 "metadata": {
  "kernelspec": {
   "display_name": "Python 3",
   "language": "python",
   "name": "python3"
  },
  "language_info": {
   "codemirror_mode": {
    "name": "ipython",
    "version": 3
   },
   "file_extension": ".py",
   "mimetype": "text/x-python",
   "name": "python",
   "nbconvert_exporter": "python",
   "pygments_lexer": "ipython3",
   "version": "3.7.1"
  }
 },
 "nbformat": 4,
 "nbformat_minor": 4
}
