{
 "cells": [
  {
   "cell_type": "code",
   "execution_count": 1,
   "metadata": {},
   "outputs": [],
   "source": [
    "%load_ext Cython\n",
    "\n",
    "import pandas as pd\n",
    "import numpy as np\n",
    "import datetime\n",
    "import pickle\n",
    "from surprise import SVD\n",
    "from surprise import Dataset\n",
    "from surprise import Reader\n",
    "from surprise import accuracy\n",
    "from surprise.model_selection import train_test_split\n",
    "from mlxtend.preprocessing import TransactionEncoder\n",
    "from mlxtend.frequent_patterns import apriori\n",
    "from mlxtend.frequent_patterns import association_rules"
   ]
  },
  {
   "cell_type": "code",
   "execution_count": 2,
   "metadata": {},
   "outputs": [],
   "source": [
    "from recommender_algo.editable_svd import EditableSVD"
   ]
  },
  {
   "cell_type": "code",
   "execution_count": 3,
   "metadata": {},
   "outputs": [],
   "source": [
    "development_set = False\n",
    "retrain_model = False\n",
    "recalculate_topn = True\n",
    "recalculate_association_rules = True"
   ]
  },
  {
   "cell_type": "code",
   "execution_count": 4,
   "metadata": {},
   "outputs": [],
   "source": [
    "if retrain_model:\n",
    "    if development_set:\n",
    "        filename = \"../data/ml_100k/ratings.csv\"\n",
    "    else:\n",
    "        filename = \"../data/ml-20m/ratings.csv\"\n",
    "    ratings_df = pd.read_csv(filename, dtype={\n",
    "        'userId': np.int32,\n",
    "        'movieId': np.int32,\n",
    "        'rating': np.float32,\n",
    "        'timestamp': np.int32,\n",
    "    })\n",
    "\n",
    "    reader = Reader(rating_scale=(1, 5))\n",
    "    data = Dataset.load_from_df(ratings_df[['userId', 'movieId', 'rating']], reader)\n",
    "\n",
    "    trainset, testset = train_test_split(data, test_size=.25, random_state=42)\n",
    "    algo = EditableSVD(n_factors=10)\n",
    "\n",
    "    train_start_time = datetime.datetime.now()\n",
    "    algo.fit(trainset)\n",
    "    train_end_time = datetime.datetime.now()\n",
    "    print(\"Training duration: \" + str(train_end_time - train_start_time))\n",
    "    \n",
    "    predictions = algo.test(testset)\n",
    "    accuracy.rmse(predictions)\n",
    "    print(accuracy)\n",
    "    \n",
    "    if development_set:\n",
    "        with open(\"algo-100k.pickle\", \"wb+\") as fp:\n",
    "            pickle.dump(algo, fp)\n",
    "    else:\n",
    "        with open(\"algo-20m.pickle\", \"wb+\") as fp:\n",
    "            pickle.dump(algo, fp)\n",
    "else:\n",
    "    if development_set:\n",
    "        with open(\"algo-100k.pickle\", \"rb\") as fp:\n",
    "            algo = pickle.load(fp)\n",
    "    else:\n",
    "        with open(\"algo-20m.pickle\", \"rb\") as fp:\n",
    "            algo = pickle.load(fp)\n",
    "    "
   ]
  },
  {
   "cell_type": "code",
   "execution_count": 5,
   "metadata": {},
   "outputs": [
    {
     "name": "stdout",
     "output_type": "stream",
     "text": [
      "0\n",
      "100\n",
      "10000\n",
      "20000\n"
     ]
    },
    {
     "ename": "KeyboardInterrupt",
     "evalue": "",
     "output_type": "error",
     "traceback": [
      "\u001b[0;31m---------------------------------------------------------------------------\u001b[0m",
      "\u001b[0;31mKeyboardInterrupt\u001b[0m                         Traceback (most recent call last)",
      "\u001b[0;32m<ipython-input-5-69b3a075dba8>\u001b[0m in \u001b[0;36m<module>\u001b[0;34m\u001b[0m\n\u001b[1;32m     10\u001b[0m         \u001b[0muser_recommendations\u001b[0m \u001b[0;34m=\u001b[0m \u001b[0;34m[\u001b[0m\u001b[0;34m]\u001b[0m\u001b[0;34m\u001b[0m\u001b[0;34m\u001b[0m\u001b[0m\n\u001b[1;32m     11\u001b[0m         \u001b[0;32mfor\u001b[0m \u001b[0mi\u001b[0m \u001b[0;32min\u001b[0m \u001b[0mall_items\u001b[0m\u001b[0;34m:\u001b[0m\u001b[0;34m\u001b[0m\u001b[0;34m\u001b[0m\u001b[0m\n\u001b[0;32m---> 12\u001b[0;31m             \u001b[0mprediction\u001b[0m \u001b[0;34m=\u001b[0m \u001b[0malgo\u001b[0m\u001b[0;34m.\u001b[0m\u001b[0mpredict\u001b[0m\u001b[0;34m(\u001b[0m\u001b[0mu\u001b[0m\u001b[0;34m,\u001b[0m \u001b[0mi\u001b[0m\u001b[0;34m)\u001b[0m\u001b[0;34m\u001b[0m\u001b[0;34m\u001b[0m\u001b[0m\n\u001b[0m\u001b[1;32m     13\u001b[0m             \u001b[0muser_recommendations\u001b[0m\u001b[0;34m.\u001b[0m\u001b[0mappend\u001b[0m\u001b[0;34m(\u001b[0m\u001b[0;34m(\u001b[0m\u001b[0mprediction\u001b[0m\u001b[0;34m.\u001b[0m\u001b[0miid\u001b[0m\u001b[0;34m,\u001b[0m \u001b[0mprediction\u001b[0m\u001b[0;34m.\u001b[0m\u001b[0mest\u001b[0m\u001b[0;34m)\u001b[0m\u001b[0;34m)\u001b[0m\u001b[0;34m\u001b[0m\u001b[0;34m\u001b[0m\u001b[0m\n\u001b[1;32m     14\u001b[0m         \u001b[0muser_recommendations\u001b[0m\u001b[0;34m.\u001b[0m\u001b[0msort\u001b[0m\u001b[0;34m(\u001b[0m\u001b[0mkey\u001b[0m\u001b[0;34m=\u001b[0m\u001b[0;32mlambda\u001b[0m \u001b[0mx\u001b[0m\u001b[0;34m:\u001b[0m \u001b[0mx\u001b[0m\u001b[0;34m[\u001b[0m\u001b[0;36m1\u001b[0m\u001b[0;34m]\u001b[0m\u001b[0;34m,\u001b[0m \u001b[0mreverse\u001b[0m\u001b[0;34m=\u001b[0m\u001b[0;32mTrue\u001b[0m\u001b[0;34m)\u001b[0m\u001b[0;34m\u001b[0m\u001b[0;34m\u001b[0m\u001b[0m\n",
      "\u001b[0;32m~/uni/SHProject/venv/lib64/python3.7/site-packages/surprise/prediction_algorithms/algo_base.py\u001b[0m in \u001b[0;36mpredict\u001b[0;34m(self, uid, iid, r_ui, clip, verbose)\u001b[0m\n\u001b[1;32m    122\u001b[0m             \u001b[0mest\u001b[0m \u001b[0;34m=\u001b[0m \u001b[0mmax\u001b[0m\u001b[0;34m(\u001b[0m\u001b[0mlower_bound\u001b[0m\u001b[0;34m,\u001b[0m \u001b[0mest\u001b[0m\u001b[0;34m)\u001b[0m\u001b[0;34m\u001b[0m\u001b[0;34m\u001b[0m\u001b[0m\n\u001b[1;32m    123\u001b[0m \u001b[0;34m\u001b[0m\u001b[0m\n\u001b[0;32m--> 124\u001b[0;31m         \u001b[0mpred\u001b[0m \u001b[0;34m=\u001b[0m \u001b[0mPrediction\u001b[0m\u001b[0;34m(\u001b[0m\u001b[0muid\u001b[0m\u001b[0;34m,\u001b[0m \u001b[0miid\u001b[0m\u001b[0;34m,\u001b[0m \u001b[0mr_ui\u001b[0m\u001b[0;34m,\u001b[0m \u001b[0mest\u001b[0m\u001b[0;34m,\u001b[0m \u001b[0mdetails\u001b[0m\u001b[0;34m)\u001b[0m\u001b[0;34m\u001b[0m\u001b[0;34m\u001b[0m\u001b[0m\n\u001b[0m\u001b[1;32m    125\u001b[0m \u001b[0;34m\u001b[0m\u001b[0m\n\u001b[1;32m    126\u001b[0m         \u001b[0;32mif\u001b[0m \u001b[0mverbose\u001b[0m\u001b[0;34m:\u001b[0m\u001b[0;34m\u001b[0m\u001b[0;34m\u001b[0m\u001b[0m\n",
      "\u001b[0;32m<string>\u001b[0m in \u001b[0;36m__new__\u001b[0;34m(_cls, uid, iid, r_ui, est, details)\u001b[0m\n",
      "\u001b[0;31mKeyboardInterrupt\u001b[0m: "
     ]
    }
   ],
   "source": [
    "# Calculate top-n recommendations to all users\n",
    "if recalculate_topn:\n",
    "    n = 30\n",
    "    top_n = {}\n",
    "    all_users = algo.trainset._raw2inner_id_users.keys()\n",
    "    all_items = algo.trainset._raw2inner_id_items.keys()\n",
    "    \n",
    "    top_n_start_time = datetime.datetime.now()\n",
    "    for index, u in enumerate(all_users):\n",
    "        user_recommendations = []\n",
    "        for i in all_items:\n",
    "            prediction = algo.predict(u, i)\n",
    "            user_recommendations.append((prediction.iid, prediction.est))\n",
    "        user_recommendations.sort(key=lambda x: x[1], reverse=True)\n",
    "        top_n[u] = user_recommendations[:n]\n",
    "        if index == 100 or index % 10000 == 0: # Debug\n",
    "            print(str(index))\n",
    "    top_n_end_time = datetime.datetime.now()\n",
    "    print(\"Top-n calculation duration: \" + str(top_n_end_time - top_n_start_time))\n",
    "    \n",
    "    if development_set:\n",
    "        with open(\"top_n-100k.pickle\", \"wb+\") as fp:\n",
    "            pickle.dump(top_n, fp)\n",
    "    else:\n",
    "        with open(\"top_n30-20m.pickle\", \"wb+\") as fp:\n",
    "            pickle.dump(top_n, fp)\n",
    "else:\n",
    "    if development_set:\n",
    "        with open(\"top_n-100k.pickle\", \"rb\") as fp:\n",
    "            top_n = pickle.load(fp)\n",
    "    else:\n",
    "        with open(\"top_n20-20m.pickle\", \"rb\") as fp:\n",
    "            top_n = pickle.load(fp)"
   ]
  },
  {
   "cell_type": "code",
   "execution_count": null,
   "metadata": {},
   "outputs": [],
   "source": [
    "top_n_items = [ [x[0] for x in row] for row in top_n.values()]\n",
    "top_n_items[1]"
   ]
  },
  {
   "cell_type": "code",
   "execution_count": null,
   "metadata": {},
   "outputs": [],
   "source": [
    "if recalculate_association_rules:\n",
    "    # Calculate association rules from top-n\n",
    "    te = TransactionEncoder()\n",
    "    te_ary = te.fit(top_n_items).transform(top_n_items, sparse=True)\n",
    "    topn_df = pd.DataFrame.sparse.from_spmatrix(te_ary, columns=te.columns_)\n",
    "    print(\"Sparse df created\")\n",
    "\n",
    "    apriori_start_time = datetime.datetime.now()\n",
    "    frequent_itemsets = apriori(topn_df, min_support=0.005, verbose=1, low_memory=True, use_colnames=True)\n",
    "    apriori_end_time = datetime.datetime.now()\n",
    "    print(\"Training duration: \" + str(apriori_end_time - apriori_start_time))\n",
    "\n",
    "    frequent_itemsets['length'] = frequent_itemsets['itemsets'].apply(lambda x: len(x))\n",
    "    print(frequent_itemsets)\n",
    "\n",
    "    frequent_itemsets[(frequent_itemsets['length'] == 2)]\n",
    "    rules = association_rules(frequent_itemsets)\n",
    "    if development_set:\n",
    "        with open(\"association-rules-100k.pickle\", \"wb+\") as fp:\n",
    "            pickle.dump(rules, fp)\n",
    "    else:\n",
    "        with open(\"association-rules-20m-n30.pickle\", \"wb+\") as fp:\n",
    "            pickle.dump(rules, fp)\n",
    "else:\n",
    "    if development_set:\n",
    "        with open(\"association-rules-100k.pickle\", \"rb\") as fp:\n",
    "            rules = pickle.load(fp)\n",
    "    else:\n",
    "        with open(\"association-rules-20m.pickle\", \"rb\") as fp:\n",
    "            rules = pickle.load(fp)"
   ]
  },
  {
   "cell_type": "code",
   "execution_count": null,
   "metadata": {},
   "outputs": [],
   "source": [
    "rules['consequents_length'] = rules['consequents'].apply(lambda x: len(x))\n",
    "rules['antecedents_length'] = rules['antecedents'].apply(lambda x: len(x))\n",
    "filtered_rules = rules[(rules['support'] > 0.005) &\n",
    "      (rules['confidence'] > 0.3) & (rules['antecedents_length'] < 4) & (rules['consequents_length'] == 1)]\n",
    "print(filtered_rules)"
   ]
  },
  {
   "cell_type": "code",
   "execution_count": null,
   "metadata": {},
   "outputs": [],
   "source": [
    "movieId = 2959\n",
    "filtered_rules.loc[filtered_rules['consequents'].apply(lambda cons: True if movieId in cons else False)]"
   ]
  },
  {
   "cell_type": "code",
   "execution_count": 38,
   "metadata": {},
   "outputs": [
    {
     "name": "stdout",
     "output_type": "stream",
     "text": [
      "Model fidelity calculation duration: 9:57:00.473035\n",
      "0.15422382671480145\n"
     ]
    }
   ],
   "source": [
    "# Calculate model fidelity\n",
    "mf_start_time = datetime.datetime.now()\n",
    "recommendations_amount = 0\n",
    "explainable_amount = 0\n",
    "for k, (u, recommendations) in enumerate(top_n.items()):\n",
    "    if k % 100 == 0: # Only take a small sample\n",
    "        for (i, rating) in recommendations:\n",
    "            recommendations_amount += 1\n",
    "            rows = filtered_rules.loc[filtered_rules['consequents']\n",
    "                .apply(lambda cons: True if i in cons else False)]\n",
    "            for index, row in rows.iterrows():\n",
    "                antecedents = list(row['antecedents'])\n",
    "                user_ratings = [ algo.trainset.to_raw_iid(x[0]) for x in algo.trainset.ur[algo.trainset.to_inner_uid(u)] ]\n",
    "                if all([x in user_ratings for x in antecedents]):\n",
    "                    explainable_amount += 1\n",
    "                    break;\n",
    "                \n",
    "mf_end_time = datetime.datetime.now()\n",
    "print(\"Model fidelity calculation duration: \" + str(top_n_end_time - top_n_start_time))\n",
    "\n",
    "model_fidelity = explainable_amount / recommendations_amount\n",
    "print(model_fidelity)"
   ]
  },
  {
   "cell_type": "code",
   "execution_count": null,
   "metadata": {},
   "outputs": [],
   "source": []
  }
 ],
 "metadata": {
  "kernelspec": {
   "display_name": "Python 3",
   "language": "python",
   "name": "python3"
  },
  "language_info": {
   "codemirror_mode": {
    "name": "ipython",
    "version": 3
   },
   "file_extension": ".py",
   "mimetype": "text/x-python",
   "name": "python",
   "nbconvert_exporter": "python",
   "pygments_lexer": "ipython3",
   "version": "3.7.5"
  }
 },
 "nbformat": 4,
 "nbformat_minor": 4
}
