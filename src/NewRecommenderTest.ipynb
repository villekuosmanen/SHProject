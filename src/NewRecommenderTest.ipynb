{
 "cells": [
  {
   "cell_type": "code",
   "execution_count": 5,
   "metadata": {},
   "outputs": [
    {
     "name": "stdout",
     "output_type": "stream",
     "text": [
      "Training duration: 0:00:03.341967\n",
      "Training duration: 0:00:03.328145\n",
      "RMSE: 0.8787\n",
      "user: 196        item: 302        r_ui = 4.00   est = 3.50   {'was_impossible': False}\n"
     ]
    }
   ],
   "source": [
    "import pandas as pd\n",
    "import numpy as np\n",
    "import datetime\n",
    "from surprise import SVD\n",
    "from surprise import Dataset\n",
    "from surprise import Reader\n",
    "from surprise import accuracy\n",
    "from surprise.model_selection import train_test_split\n",
    "\n",
    "# Get data from the MovieLense 100k dataset:\n",
    "dev_file = \"../data/ml_100k/ratings.csv\"\n",
    "prod_file = \"../data/ml-20m/ratings.csv\"\n",
    "ratings_df = pd.read_csv(dev_file, dtype={\n",
    "    'userId': np.int32,\n",
    "    'movieId': np.int32,\n",
    "    'rating': np.float32,\n",
    "    'timestamp': np.int32,\n",
    "})\n",
    "\n",
    "reader = Reader(rating_scale=(1, 5))\n",
    "data = Dataset.load_from_df(ratings_df[['userId', 'movieId', 'rating']], reader)\n",
    "\n",
    "trainset, testset = train_test_split(data, test_size=.25)\n",
    "algo = SVD()\n",
    "\n",
    "train_start_time = datetime.datetime.now()\n",
    "algo.fit(trainset)\n",
    "train_end_time = datetime.datetime.now()\n",
    "print(\"Training duration: \" + str(train_end_time - train_start_time))\n",
    "\n",
    "train_start_time = datetime.datetime.now()\n",
    "algo.fit(trainset)\n",
    "train_end_time = datetime.datetime.now()\n",
    "print(\"Training duration: \" + str(train_end_time - train_start_time))\n",
    "\n",
    "predictions = algo.test(testset)\n",
    "accuracy.rmse(predictions)\n",
    "\n",
    "uid = str(196)  # raw user id (as in the ratings file). They are **strings**!\n",
    "iid = str(302)  # raw item id (as in the ratings file). They are **strings**!\n",
    "\n",
    "# get a prediction for specific users and items.\n",
    "pred = algo.predict(uid, iid, r_ui=4, verbose=True)"
   ]
  },
  {
   "cell_type": "code",
   "execution_count": 4,
   "metadata": {},
   "outputs": [
    {
     "name": "stdout",
     "output_type": "stream",
     "text": [
      "Training duration: 0:00:03.347290\n",
      "RMSE: 0.8826\n"
     ]
    },
    {
     "data": {
      "text/plain": [
       "0.8826205513180468"
      ]
     },
     "execution_count": 4,
     "metadata": {},
     "output_type": "execute_result"
    }
   ],
   "source": [
    "editedAlgo = SVD()\n",
    "editedAlgo.pu = algo.pu\n",
    "editedAlgo.qi = algo.qi\n",
    "editedAlgo.bu = algo.bu\n",
    "editedAlgo.bi = algo.bi\n",
    "editedAlgo.lr_all = 0.05\n",
    "\n",
    "train_start_time = datetime.datetime.now()\n",
    "editedAlgo.fit(trainset)\n",
    "train_end_time = datetime.datetime.now()\n",
    "print(\"Training duration: \" + str(train_end_time - train_start_time))\n",
    "\n",
    "predictions = editedAlgo.test(testset)\n",
    "accuracy.rmse(predictions)"
   ]
  },
  {
   "cell_type": "code",
   "execution_count": null,
   "metadata": {},
   "outputs": [],
   "source": []
  }
 ],
 "metadata": {
  "kernelspec": {
   "display_name": "Python 3",
   "language": "python",
   "name": "python3"
  },
  "language_info": {
   "codemirror_mode": {
    "name": "ipython",
    "version": 3
   },
   "file_extension": ".py",
   "mimetype": "text/x-python",
   "name": "python",
   "nbconvert_exporter": "python",
   "pygments_lexer": "ipython3",
   "version": "3.7.5"
  }
 },
 "nbformat": 4,
 "nbformat_minor": 4
}
